{
 "cells": [
  {
   "cell_type": "code",
   "execution_count": 6,
   "id": "36442cbb",
   "metadata": {},
   "outputs": [],
   "source": [
    "import pandas as pd\n",
    "import numpy as np"
   ]
  },
  {
   "cell_type": "code",
   "execution_count": 46,
   "id": "9ff2ac8d",
   "metadata": {},
   "outputs": [],
   "source": [
    "taxi = pd.read_csv('nyc.csv.zip', compression='zip')"
   ]
  },
  {
   "cell_type": "code",
   "execution_count": 49,
   "id": "a59d6163",
   "metadata": {},
   "outputs": [
    {
     "data": {
      "text/html": [
       "<div>\n",
       "<style scoped>\n",
       "    .dataframe tbody tr th:only-of-type {\n",
       "        vertical-align: middle;\n",
       "    }\n",
       "\n",
       "    .dataframe tbody tr th {\n",
       "        vertical-align: top;\n",
       "    }\n",
       "\n",
       "    .dataframe thead th {\n",
       "        text-align: right;\n",
       "    }\n",
       "</style>\n",
       "<table border=\"1\" class=\"dataframe\">\n",
       "  <thead>\n",
       "    <tr style=\"text-align: right;\">\n",
       "      <th></th>\n",
       "      <th>key</th>\n",
       "      <th>fare_amount</th>\n",
       "      <th>pickup_datetime</th>\n",
       "      <th>pickup_longitude</th>\n",
       "      <th>pickup_latitude</th>\n",
       "      <th>dropoff_longitude</th>\n",
       "      <th>dropoff_latitude</th>\n",
       "      <th>passenger_count</th>\n",
       "      <th>distance</th>\n",
       "    </tr>\n",
       "  </thead>\n",
       "  <tbody>\n",
       "    <tr>\n",
       "      <th>0</th>\n",
       "      <td>2009-06-15 17:26:21.0000001</td>\n",
       "      <td>4.5</td>\n",
       "      <td>2009-06-15 17:26:21 UTC</td>\n",
       "      <td>-73.844311</td>\n",
       "      <td>40.721319</td>\n",
       "      <td>-73.841610</td>\n",
       "      <td>40.712278</td>\n",
       "      <td>1</td>\n",
       "      <td>1.030764</td>\n",
       "    </tr>\n",
       "    <tr>\n",
       "      <th>1</th>\n",
       "      <td>2010-01-05 16:52:16.0000002</td>\n",
       "      <td>16.9</td>\n",
       "      <td>2010-01-05 16:52:16 UTC</td>\n",
       "      <td>-74.016048</td>\n",
       "      <td>40.711303</td>\n",
       "      <td>-73.979268</td>\n",
       "      <td>40.782004</td>\n",
       "      <td>1</td>\n",
       "      <td>8.450134</td>\n",
       "    </tr>\n",
       "    <tr>\n",
       "      <th>2</th>\n",
       "      <td>2011-08-18 00:35:00.00000049</td>\n",
       "      <td>5.7</td>\n",
       "      <td>2011-08-18 00:35:00 UTC</td>\n",
       "      <td>-73.982738</td>\n",
       "      <td>40.761270</td>\n",
       "      <td>-73.991242</td>\n",
       "      <td>40.750562</td>\n",
       "      <td>2</td>\n",
       "      <td>1.389525</td>\n",
       "    </tr>\n",
       "    <tr>\n",
       "      <th>3</th>\n",
       "      <td>2012-04-21 04:30:42.0000001</td>\n",
       "      <td>7.7</td>\n",
       "      <td>2012-04-21 04:30:42 UTC</td>\n",
       "      <td>-73.987130</td>\n",
       "      <td>40.733143</td>\n",
       "      <td>-73.991567</td>\n",
       "      <td>40.758092</td>\n",
       "      <td>1</td>\n",
       "      <td>2.799270</td>\n",
       "    </tr>\n",
       "    <tr>\n",
       "      <th>4</th>\n",
       "      <td>2010-03-09 07:51:00.000000135</td>\n",
       "      <td>5.3</td>\n",
       "      <td>2010-03-09 07:51:00 UTC</td>\n",
       "      <td>-73.968095</td>\n",
       "      <td>40.768008</td>\n",
       "      <td>-73.956655</td>\n",
       "      <td>40.783762</td>\n",
       "      <td>1</td>\n",
       "      <td>1.999157</td>\n",
       "    </tr>\n",
       "  </tbody>\n",
       "</table>\n",
       "</div>"
      ],
      "text/plain": [
       "                             key  fare_amount          pickup_datetime  \\\n",
       "0    2009-06-15 17:26:21.0000001          4.5  2009-06-15 17:26:21 UTC   \n",
       "1    2010-01-05 16:52:16.0000002         16.9  2010-01-05 16:52:16 UTC   \n",
       "2   2011-08-18 00:35:00.00000049          5.7  2011-08-18 00:35:00 UTC   \n",
       "3    2012-04-21 04:30:42.0000001          7.7  2012-04-21 04:30:42 UTC   \n",
       "4  2010-03-09 07:51:00.000000135          5.3  2010-03-09 07:51:00 UTC   \n",
       "\n",
       "   pickup_longitude  pickup_latitude  dropoff_longitude  dropoff_latitude  \\\n",
       "0        -73.844311        40.721319         -73.841610         40.712278   \n",
       "1        -74.016048        40.711303         -73.979268         40.782004   \n",
       "2        -73.982738        40.761270         -73.991242         40.750562   \n",
       "3        -73.987130        40.733143         -73.991567         40.758092   \n",
       "4        -73.968095        40.768008         -73.956655         40.783762   \n",
       "\n",
       "   passenger_count  distance  \n",
       "0                1  1.030764  \n",
       "1                1  8.450134  \n",
       "2                2  1.389525  \n",
       "3                1  2.799270  \n",
       "4                1  1.999157  "
      ]
     },
     "execution_count": 49,
     "metadata": {},
     "output_type": "execute_result"
    }
   ],
   "source": [
    "taxi.head()"
   ]
  },
  {
   "cell_type": "code",
   "execution_count": 5,
   "id": "40e48561",
   "metadata": {},
   "outputs": [
    {
     "data": {
      "text/plain": [
       "key                   object\n",
       "fare_amount          float64\n",
       "pickup_datetime       object\n",
       "pickup_longitude     float64\n",
       "pickup_latitude      float64\n",
       "dropoff_longitude    float64\n",
       "dropoff_latitude     float64\n",
       "passenger_count        int64\n",
       "dtype: object"
      ]
     },
     "execution_count": 5,
     "metadata": {},
     "output_type": "execute_result"
    }
   ],
   "source": [
    "taxi.dtypes"
   ]
  },
  {
   "cell_type": "code",
   "execution_count": 8,
   "id": "a34852ca",
   "metadata": {},
   "outputs": [],
   "source": [
    "def haversine(pic_long, pic_lat, d_long, d_lat, radius = 6371):\n",
    "    pic_long = np.radians(pic_long)\n",
    "    pic_lat = np.radians(pic_lat)\n",
    "    d_long = np.radians(d_long)\n",
    "    d_lat = np.radians(d_lat)\n",
    "    temp = (((np.sin((d_lat - pic_lat)/2)) ** 2) + np.cos(pic_lat)*np.cos(d_lat) * ((np.sin((d_long - pic_long)/2)) ** 2)) ** 0.5\n",
    "    d = 2 * radius * np.arcsin(temp)\n",
    "    return(d)\n",
    "    \n",
    "    "
   ]
  },
  {
   "cell_type": "code",
   "execution_count": 10,
   "id": "98ff5564",
   "metadata": {},
   "outputs": [
    {
     "data": {
      "text/plain": [
       "1.030763935049508"
      ]
     },
     "execution_count": 10,
     "metadata": {},
     "output_type": "execute_result"
    }
   ],
   "source": [
    "haversine(-73.844311, 40.721319, -73.841610, 40.712278)"
   ]
  },
  {
   "cell_type": "code",
   "execution_count": 30,
   "id": "caab9878",
   "metadata": {},
   "outputs": [],
   "source": [
    "taxi['distance'] = pd.Series(haversine(row['pickup_longitude'], row['pickup_latitude'], row['dropoff_longitude'], row['dropoff_latitude']) for i, row in taxi.iterrows())"
   ]
  },
  {
   "cell_type": "code",
   "execution_count": 25,
   "id": "eadbe953",
   "metadata": {},
   "outputs": [
    {
     "data": {
      "text/plain": [
       "(50000, 9)"
      ]
     },
     "execution_count": 25,
     "metadata": {},
     "output_type": "execute_result"
    }
   ],
   "source": [
    "taxi.shape"
   ]
  },
  {
   "cell_type": "code",
   "execution_count": 26,
   "id": "1a677010",
   "metadata": {},
   "outputs": [],
   "source": [
    "timeit"
   ]
  },
  {
   "cell_type": "code",
   "execution_count": 38,
   "id": "cb4d1443",
   "metadata": {},
   "outputs": [
    {
     "name": "stdout",
     "output_type": "stream",
     "text": [
      "1.030763935048818\n",
      "8.450133595805992\n",
      "1.3895252257697308\n",
      "2.799270239983498\n",
      "1.9991567879958214\n",
      "3.7872390847819912\n",
      "1.5558066593500526\n",
      "4.155444291845812\n",
      "1.253231512725298\n",
      "2.849626796107395\n",
      "1.374576999593841\n",
      "0.0\n",
      "0.7177674874531168\n"
     ]
    }
   ],
   "source": [
    "for row in taxi[:13].itertuples():\n",
    "    print(haversine(row.pickup_longitude, row.pickup_latitude, row.dropoff_longitude, row.dropoff_latitude))"
   ]
  },
  {
   "cell_type": "code",
   "execution_count": 40,
   "id": "a7745931",
   "metadata": {},
   "outputs": [],
   "source": [
    "taxi['distance'] = pd.Series(haversine(row.pickup_longitude, row.pickup_latitude, row.dropoff_longitude, row.dropoff_latitude) for  row in taxi.itertuples())"
   ]
  },
  {
   "cell_type": "code",
   "execution_count": 43,
   "id": "fd7cd8bb",
   "metadata": {},
   "outputs": [],
   "source": [
    "taxi['distance'] = taxi[['pickup_longitude', 'pickup_latitude', 'dropoff_longitude', 'dropoff_latitude']].apply(lambda row: haversine(row[0], row[1], row[2], row[3]), axis=1)"
   ]
  },
  {
   "cell_type": "code",
   "execution_count": 45,
   "id": "2d5950b4",
   "metadata": {},
   "outputs": [
    {
     "data": {
      "text/plain": [
       "8667.818812217454"
      ]
     },
     "execution_count": 45,
     "metadata": {},
     "output_type": "execute_result"
    }
   ],
   "source": [
    "longest = taxi.distance.max()"
   ]
  },
  {
   "cell_type": "code",
   "execution_count": 48,
   "id": "9d560a4d",
   "metadata": {},
   "outputs": [],
   "source": [
    "taxi['distance'] = haversine(taxi['pickup_longitude'].values, taxi['pickup_latitude'].values, taxi['dropoff_longitude'].values, taxi['dropoff_latitude'].values)"
   ]
  },
  {
   "cell_type": "code",
   "execution_count": null,
   "id": "adea9be4",
   "metadata": {},
   "outputs": [],
   "source": []
  }
 ],
 "metadata": {
  "kernelspec": {
   "display_name": "Python 3 (ipykernel)",
   "language": "python",
   "name": "python3"
  },
  "language_info": {
   "codemirror_mode": {
    "name": "ipython",
    "version": 3
   },
   "file_extension": ".py",
   "mimetype": "text/x-python",
   "name": "python",
   "nbconvert_exporter": "python",
   "pygments_lexer": "ipython3",
   "version": "3.8.1"
  }
 },
 "nbformat": 4,
 "nbformat_minor": 5
}
