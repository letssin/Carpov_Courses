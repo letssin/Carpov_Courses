{
 "cells": [
  {
   "cell_type": "code",
   "execution_count": 1,
   "id": "71411a32",
   "metadata": {},
   "outputs": [],
   "source": [
    "from scipy import special"
   ]
  },
  {
   "cell_type": "code",
   "execution_count": 2,
   "id": "8a2bfad2",
   "metadata": {},
   "outputs": [
    {
     "data": {
      "text/plain": [
       "8.0"
      ]
     },
     "execution_count": 2,
     "metadata": {},
     "output_type": "execute_result"
    }
   ],
   "source": [
    "special.comb(8,1)"
   ]
  },
  {
   "cell_type": "code",
   "execution_count": 6,
   "id": "b4c7edc5",
   "metadata": {},
   "outputs": [
    {
     "data": {
      "text/plain": [
       "0.41990399999999994"
      ]
     },
     "execution_count": 6,
     "metadata": {},
     "output_type": "execute_result"
    }
   ],
   "source": [
    "1-((special.comb(7,3) * 0.4 **3 * 0.6 ** 4)\\\n",
    "   + (special.comb(7,4) * 0.4 **4  * 0.6 ** 3)\\\n",
    "   + (special.comb(7,5) * 0.4 **5  * 0.6 ** 2)\\\n",
    "   + (special.comb(7,6) * 0.4 **6  * 0.6)\\\n",
    "   + 0.4 **7)"
   ]
  },
  {
   "cell_type": "code",
   "execution_count": 7,
   "id": "63b5530e",
   "metadata": {},
   "outputs": [
    {
     "data": {
      "text/plain": [
       "0.419904"
      ]
     },
     "execution_count": 7,
     "metadata": {},
     "output_type": "execute_result"
    }
   ],
   "source": [
    "(special.comb(7,1) * 0.4  * 0.6 ** 6) + (special.comb(7,2) * 0.4 **2  * 0.6 ** 5) + 0.6**7"
   ]
  },
  {
   "cell_type": "code",
   "execution_count": 8,
   "id": "78694ee4",
   "metadata": {},
   "outputs": [
    {
     "data": {
      "text/plain": [
       "7.0"
      ]
     },
     "execution_count": 8,
     "metadata": {},
     "output_type": "execute_result"
    }
   ],
   "source": [
    "special.comb(7,1)"
   ]
  },
  {
   "cell_type": "code",
   "execution_count": 9,
   "id": "99f80f45",
   "metadata": {},
   "outputs": [
    {
     "data": {
      "text/plain": [
       "0.7734375"
      ]
     },
     "execution_count": 9,
     "metadata": {},
     "output_type": "execute_result"
    }
   ],
   "source": [
    "1 - ((special.comb(7,1)* 0.5 * 0.5**6) + (special.comb(7,2)* 0.5**2 * 0.5**5) + 0.5**7)"
   ]
  },
  {
   "cell_type": "code",
   "execution_count": 11,
   "id": "6ee7dfb0",
   "metadata": {},
   "outputs": [
    {
     "data": {
      "text/plain": [
       "0.466064453125"
      ]
     },
     "execution_count": 11,
     "metadata": {},
     "output_type": "execute_result"
    }
   ],
   "source": [
    "1 - ((special.comb(6,1) * 0.25 * 0.75**5) + 0.75 ** 6)"
   ]
  },
  {
   "cell_type": "code",
   "execution_count": 12,
   "id": "71efc712",
   "metadata": {},
   "outputs": [
    {
     "data": {
      "text/plain": [
       "0.9298091736000003"
      ]
     },
     "execution_count": 12,
     "metadata": {},
     "output_type": "execute_result"
    }
   ],
   "source": [
    "(special.comb(10,1) * 0.1 * 0.9 **9) + (special.comb(10,2) * 0.1** 2 * 0.9 **8) + 0.9 ** 10"
   ]
  },
  {
   "cell_type": "code",
   "execution_count": 13,
   "id": "31557044",
   "metadata": {},
   "outputs": [
    {
     "data": {
      "text/plain": [
       "0.22765622036690203"
      ]
     },
     "execution_count": 13,
     "metadata": {},
     "output_type": "execute_result"
    }
   ],
   "source": [
    "special.comb(30,2) * 0.1 ** 2 * 0.9**28"
   ]
  },
  {
   "cell_type": "code",
   "execution_count": 20,
   "id": "06ce437d",
   "metadata": {},
   "outputs": [
    {
     "data": {
      "text/plain": [
       "0.087890625"
      ]
     },
     "execution_count": 20,
     "metadata": {},
     "output_type": "execute_result"
    }
   ],
   "source": [
    "special.comb(5,2) * 0.75 ** 2 * 0.25 ** 3"
   ]
  },
  {
   "cell_type": "code",
   "execution_count": 19,
   "id": "004284ed",
   "metadata": {},
   "outputs": [
    {
     "data": {
      "text/plain": [
       "10.0"
      ]
     },
     "execution_count": 19,
     "metadata": {},
     "output_type": "execute_result"
    }
   ],
   "source": [
    "special.comb(5,2)"
   ]
  },
  {
   "cell_type": "code",
   "execution_count": null,
   "id": "864e27ca",
   "metadata": {},
   "outputs": [],
   "source": []
  }
 ],
 "metadata": {
  "kernelspec": {
   "display_name": "Python 3 (ipykernel)",
   "language": "python",
   "name": "python3"
  },
  "language_info": {
   "codemirror_mode": {
    "name": "ipython",
    "version": 3
   },
   "file_extension": ".py",
   "mimetype": "text/x-python",
   "name": "python",
   "nbconvert_exporter": "python",
   "pygments_lexer": "ipython3",
   "version": "3.8.1"
  }
 },
 "nbformat": 4,
 "nbformat_minor": 5
}
