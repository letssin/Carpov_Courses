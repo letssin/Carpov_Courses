{
 "cells": [
  {
   "cell_type": "code",
   "execution_count": 1,
   "id": "e84f30db",
   "metadata": {},
   "outputs": [],
   "source": [
    "import pandas as pd\n",
    "import pandahouse as ph"
   ]
  },
  {
   "cell_type": "code",
   "execution_count": 4,
   "id": "df409133",
   "metadata": {},
   "outputs": [],
   "source": [
    "connection = dict(database = 'test',\n",
    "                  host = 'https://clickhouse.lab.karpov.courses',\n",
    "                  user = 'student-rw',\n",
    "                  password = '656e2b0c9c')"
   ]
  },
  {
   "cell_type": "code",
   "execution_count": 5,
   "id": "78563460",
   "metadata": {},
   "outputs": [
    {
     "data": {
      "text/html": [
       "<div>\n",
       "<style scoped>\n",
       "    .dataframe tbody tr th:only-of-type {\n",
       "        vertical-align: middle;\n",
       "    }\n",
       "\n",
       "    .dataframe tbody tr th {\n",
       "        vertical-align: top;\n",
       "    }\n",
       "\n",
       "    .dataframe thead th {\n",
       "        text-align: right;\n",
       "    }\n",
       "</style>\n",
       "<table border=\"1\" class=\"dataframe\">\n",
       "  <thead>\n",
       "    <tr style=\"text-align: right;\">\n",
       "      <th></th>\n",
       "      <th>InstallationDate</th>\n",
       "      <th>InstallCost</th>\n",
       "      <th>Platform</th>\n",
       "      <th>DeviceID</th>\n",
       "      <th>Source</th>\n",
       "    </tr>\n",
       "  </thead>\n",
       "  <tbody>\n",
       "    <tr>\n",
       "      <th>0</th>\n",
       "      <td>2019-03-02</td>\n",
       "      <td>0</td>\n",
       "      <td>android</td>\n",
       "      <td>7950068545577019282</td>\n",
       "      <td>Source_27</td>\n",
       "    </tr>\n",
       "    <tr>\n",
       "      <th>1</th>\n",
       "      <td>2019-03-17</td>\n",
       "      <td>49</td>\n",
       "      <td>android</td>\n",
       "      <td>17173992779193729517</td>\n",
       "      <td>Source_14</td>\n",
       "    </tr>\n",
       "    <tr>\n",
       "      <th>2</th>\n",
       "      <td>2019-04-07</td>\n",
       "      <td>56</td>\n",
       "      <td>android</td>\n",
       "      <td>9528182466778893591</td>\n",
       "      <td>Source_14</td>\n",
       "    </tr>\n",
       "    <tr>\n",
       "      <th>3</th>\n",
       "      <td>2019-06-25</td>\n",
       "      <td>39</td>\n",
       "      <td>android</td>\n",
       "      <td>2212531864415574595</td>\n",
       "      <td>Source_9</td>\n",
       "    </tr>\n",
       "    <tr>\n",
       "      <th>4</th>\n",
       "      <td>2019-04-13</td>\n",
       "      <td>0</td>\n",
       "      <td>android</td>\n",
       "      <td>6959033924999748551</td>\n",
       "      <td>Source_27</td>\n",
       "    </tr>\n",
       "  </tbody>\n",
       "</table>\n",
       "</div>"
      ],
      "text/plain": [
       "  InstallationDate  InstallCost Platform              DeviceID     Source\n",
       "0       2019-03-02            0  android   7950068545577019282  Source_27\n",
       "1       2019-03-17           49  android  17173992779193729517  Source_14\n",
       "2       2019-04-07           56  android   9528182466778893591  Source_14\n",
       "3       2019-06-25           39  android   2212531864415574595   Source_9\n",
       "4       2019-04-13            0  android   6959033924999748551  Source_27"
      ]
     },
     "execution_count": 5,
     "metadata": {},
     "output_type": "execute_result"
    }
   ],
   "source": [
    "#пишем запрос и получаем данные из Clickhouse в DataFrame\n",
    "query = \"\"\"\n",
    "select *\n",
    "from test.installs\n",
    "limit 1000\n",
    "\"\"\"\n",
    "df = ph.read_clickhouse(query, connection = connection)\n",
    "df.head()"
   ]
  },
  {
   "cell_type": "code",
   "execution_count": 9,
   "id": "71bf2850",
   "metadata": {},
   "outputs": [],
   "source": [
    "#выгружаем данные в эксель\n",
    "df.to_excel(\"C:/Users/бвс/Carpov_Courses/python+sql/ch_data.xlsx\", sheet_name = 'Data', index = False, encoding = 'UTF-8')"
   ]
  },
  {
   "cell_type": "code",
   "execution_count": 10,
   "id": "a70943e9",
   "metadata": {},
   "outputs": [],
   "source": [
    "df_in = pd.read_csv('medium.csv', sep = '\\t')"
   ]
  },
  {
   "cell_type": "code",
   "execution_count": 11,
   "id": "8c643e7a",
   "metadata": {},
   "outputs": [
    {
     "data": {
      "text/html": [
       "<div>\n",
       "<style scoped>\n",
       "    .dataframe tbody tr th:only-of-type {\n",
       "        vertical-align: middle;\n",
       "    }\n",
       "\n",
       "    .dataframe tbody tr th {\n",
       "        vertical-align: top;\n",
       "    }\n",
       "\n",
       "    .dataframe thead th {\n",
       "        text-align: right;\n",
       "    }\n",
       "</style>\n",
       "<table border=\"1\" class=\"dataframe\">\n",
       "  <thead>\n",
       "    <tr style=\"text-align: right;\">\n",
       "      <th></th>\n",
       "      <th>published</th>\n",
       "      <th>domain</th>\n",
       "      <th>url</th>\n",
       "    </tr>\n",
       "  </thead>\n",
       "  <tbody>\n",
       "    <tr>\n",
       "      <th>0</th>\n",
       "      <td>2012-08-13 22:54:53.510Z</td>\n",
       "      <td>medium.com</td>\n",
       "      <td>https://medium.com/policy/medium-terms-of-serv...</td>\n",
       "    </tr>\n",
       "    <tr>\n",
       "      <th>1</th>\n",
       "      <td>2012-08-13 22:57:17.248Z</td>\n",
       "      <td>medium.com</td>\n",
       "      <td>https://medium.com/policy/medium-privacy-polic...</td>\n",
       "    </tr>\n",
       "    <tr>\n",
       "      <th>2</th>\n",
       "      <td>2016-11-04 23:40:43.364Z</td>\n",
       "      <td>medium.com</td>\n",
       "      <td>https://medium.com/@Medium/personalize-your-me...</td>\n",
       "    </tr>\n",
       "    <tr>\n",
       "      <th>3</th>\n",
       "      <td>2016-12-24 18:21:13.427Z</td>\n",
       "      <td>medium.com</td>\n",
       "      <td>https://medium.com/holiday-poems/xmas-morning-...</td>\n",
       "    </tr>\n",
       "    <tr>\n",
       "      <th>4</th>\n",
       "      <td>2015-09-22 21:37:48.207Z</td>\n",
       "      <td>blog.medium.com</td>\n",
       "      <td>https://blog.medium.com/taking-a-side-on-net-n...</td>\n",
       "    </tr>\n",
       "  </tbody>\n",
       "</table>\n",
       "</div>"
      ],
      "text/plain": [
       "                  published           domain  \\\n",
       "0  2012-08-13 22:54:53.510Z       medium.com   \n",
       "1  2012-08-13 22:57:17.248Z       medium.com   \n",
       "2  2016-11-04 23:40:43.364Z       medium.com   \n",
       "3  2016-12-24 18:21:13.427Z       medium.com   \n",
       "4  2015-09-22 21:37:48.207Z  blog.medium.com   \n",
       "\n",
       "                                                 url  \n",
       "0  https://medium.com/policy/medium-terms-of-serv...  \n",
       "1  https://medium.com/policy/medium-privacy-polic...  \n",
       "2  https://medium.com/@Medium/personalize-your-me...  \n",
       "3  https://medium.com/holiday-poems/xmas-morning-...  \n",
       "4  https://blog.medium.com/taking-a-side-on-net-n...  "
      ]
     },
     "execution_count": 11,
     "metadata": {},
     "output_type": "execute_result"
    }
   ],
   "source": [
    "df_in.head()"
   ]
  },
  {
   "cell_type": "code",
   "execution_count": 14,
   "id": "9a256dbb",
   "metadata": {
    "collapsed": true
   },
   "outputs": [
    {
     "ename": "UnicodeDecodeError",
     "evalue": "'utf-8' codec can't decode byte 0x8b in position 1: invalid start byte",
     "output_type": "error",
     "traceback": [
      "\u001b[1;31m---------------------------------------------------------------------------\u001b[0m",
      "\u001b[1;31mUnicodeDecodeError\u001b[0m                        Traceback (most recent call last)",
      "Cell \u001b[1;32mIn [14], line 8\u001b[0m\n\u001b[0;32m      1\u001b[0m query_create \u001b[38;5;241m=\u001b[39m \u001b[38;5;124m\"\"\"\u001b[39m\n\u001b[0;32m      2\u001b[0m \u001b[38;5;124mCREATE TABLE test.mnaumov_import_test (\u001b[39m\n\u001b[0;32m      3\u001b[0m \u001b[38;5;124m    published String,\u001b[39m\n\u001b[1;32m   (...)\u001b[0m\n\u001b[0;32m      6\u001b[0m \u001b[38;5;124mENGINE = Log\u001b[39m\n\u001b[0;32m      7\u001b[0m \u001b[38;5;124m\"\"\"\u001b[39m\n\u001b[1;32m----> 8\u001b[0m df_create \u001b[38;5;241m=\u001b[39m ph\u001b[38;5;241m.\u001b[39mread_clickhouse(query_create, connection \u001b[38;5;241m=\u001b[39m connection)\n\u001b[0;32m      9\u001b[0m df_create\u001b[38;5;241m.\u001b[39mhead()\n",
      "File \u001b[1;32mc:\\python\\lib\\site-packages\\pandahouse\\core.py:58\u001b[0m, in \u001b[0;36mread_clickhouse\u001b[1;34m(query, tables, index, connection, **kwargs)\u001b[0m\n\u001b[0;32m     55\u001b[0m query, external \u001b[38;5;241m=\u001b[39m selection(query, tables\u001b[38;5;241m=\u001b[39mtables, index\u001b[38;5;241m=\u001b[39mindex)\n\u001b[0;32m     56\u001b[0m lines \u001b[38;5;241m=\u001b[39m execute(query, external\u001b[38;5;241m=\u001b[39mexternal, stream\u001b[38;5;241m=\u001b[39m\u001b[38;5;28;01mTrue\u001b[39;00m,\n\u001b[0;32m     57\u001b[0m                 connection\u001b[38;5;241m=\u001b[39mconnection)\n\u001b[1;32m---> 58\u001b[0m \u001b[38;5;28;01mreturn\u001b[39;00m \u001b[43mto_dataframe\u001b[49m\u001b[43m(\u001b[49m\u001b[43mlines\u001b[49m\u001b[43m,\u001b[49m\u001b[43m \u001b[49m\u001b[38;5;241;43m*\u001b[39;49m\u001b[38;5;241;43m*\u001b[39;49m\u001b[43mkwargs\u001b[49m\u001b[43m)\u001b[49m\n",
      "File \u001b[1;32mc:\\python\\lib\\site-packages\\pandahouse\\convert.py:62\u001b[0m, in \u001b[0;36mto_dataframe\u001b[1;34m(lines, **kwargs)\u001b[0m\n\u001b[0;32m     61\u001b[0m \u001b[38;5;28;01mdef\u001b[39;00m \u001b[38;5;21mto_dataframe\u001b[39m(lines, \u001b[38;5;241m*\u001b[39m\u001b[38;5;241m*\u001b[39mkwargs):\n\u001b[1;32m---> 62\u001b[0m     names \u001b[38;5;241m=\u001b[39m \u001b[43mlines\u001b[49m\u001b[38;5;241;43m.\u001b[39;49m\u001b[43mreadline\u001b[49m\u001b[43m(\u001b[49m\u001b[43m)\u001b[49m\u001b[38;5;241;43m.\u001b[39;49m\u001b[43mdecode\u001b[49m\u001b[43m(\u001b[49m\u001b[38;5;124;43m'\u001b[39;49m\u001b[38;5;124;43mutf-8\u001b[39;49m\u001b[38;5;124;43m'\u001b[39;49m\u001b[43m)\u001b[49m\u001b[38;5;241m.\u001b[39mstrip()\u001b[38;5;241m.\u001b[39msplit(\u001b[38;5;124m'\u001b[39m\u001b[38;5;130;01m\\t\u001b[39;00m\u001b[38;5;124m'\u001b[39m)\n\u001b[0;32m     63\u001b[0m     types \u001b[38;5;241m=\u001b[39m lines\u001b[38;5;241m.\u001b[39mreadline()\u001b[38;5;241m.\u001b[39mdecode(\u001b[38;5;124m'\u001b[39m\u001b[38;5;124mutf-8\u001b[39m\u001b[38;5;124m'\u001b[39m)\u001b[38;5;241m.\u001b[39mstrip()\u001b[38;5;241m.\u001b[39msplit(\u001b[38;5;124m'\u001b[39m\u001b[38;5;130;01m\\t\u001b[39;00m\u001b[38;5;124m'\u001b[39m)\n\u001b[0;32m     65\u001b[0m     dtypes, parse_dates, converters \u001b[38;5;241m=\u001b[39m {}, [], {}\n",
      "\u001b[1;31mUnicodeDecodeError\u001b[0m: 'utf-8' codec can't decode byte 0x8b in position 1: invalid start byte"
     ]
    }
   ],
   "source": [
    "query_create = \"\"\"\n",
    "CREATE TABLE test.mnaumov_import_test (\n",
    "    published String,\n",
    "    domain String,\n",
    "    url String)\n",
    "ENGINE = Log\n",
    "\"\"\"\n",
    "df_create = ph.read_clickhouse(query_create, connection = connection)\n"
   ]
  },
  {
   "cell_type": "code",
   "execution_count": 15,
   "id": "2f576353",
   "metadata": {},
   "outputs": [
    {
     "data": {
      "text/plain": [
       "92191"
      ]
     },
     "execution_count": 15,
     "metadata": {},
     "output_type": "execute_result"
    }
   ],
   "source": [
    "ph.to_clickhouse(df_in, 'mnaumov_import_test', index = False,connection = connection)"
   ]
  },
  {
   "cell_type": "code",
   "execution_count": 16,
   "id": "08d25162",
   "metadata": {},
   "outputs": [
    {
     "data": {
      "text/html": [
       "<div>\n",
       "<style scoped>\n",
       "    .dataframe tbody tr th:only-of-type {\n",
       "        vertical-align: middle;\n",
       "    }\n",
       "\n",
       "    .dataframe tbody tr th {\n",
       "        vertical-align: top;\n",
       "    }\n",
       "\n",
       "    .dataframe thead th {\n",
       "        text-align: right;\n",
       "    }\n",
       "</style>\n",
       "<table border=\"1\" class=\"dataframe\">\n",
       "  <thead>\n",
       "    <tr style=\"text-align: right;\">\n",
       "      <th></th>\n",
       "      <th>published</th>\n",
       "      <th>domain</th>\n",
       "      <th>url</th>\n",
       "    </tr>\n",
       "  </thead>\n",
       "  <tbody>\n",
       "    <tr>\n",
       "      <th>0</th>\n",
       "      <td>2016-08-15 14:55:38.940Z</td>\n",
       "      <td>medium.com</td>\n",
       "      <td>https://medium.com/@RaceNote/joe-gibbs-racing-...</td>\n",
       "    </tr>\n",
       "    <tr>\n",
       "      <th>1</th>\n",
       "      <td>2016-02-10 21:28:32.379Z</td>\n",
       "      <td>medium.com</td>\n",
       "      <td>https://medium.com/@emlong_40534/at-the-lamp-w...</td>\n",
       "    </tr>\n",
       "    <tr>\n",
       "      <th>2</th>\n",
       "      <td>2013-06-22 17:37:43.530Z</td>\n",
       "      <td>medium.com</td>\n",
       "      <td>https://medium.com/@secos/commune-6bb05998323f</td>\n",
       "    </tr>\n",
       "    <tr>\n",
       "      <th>3</th>\n",
       "      <td>2015-11-20 19:37:56.306Z</td>\n",
       "      <td>medium.com</td>\n",
       "      <td>https://medium.com/elixir-magic/setting-up-dig...</td>\n",
       "    </tr>\n",
       "    <tr>\n",
       "      <th>4</th>\n",
       "      <td>2015-12-25 18:45:28.294Z</td>\n",
       "      <td>medium.com</td>\n",
       "      <td>https://medium.com/@secos/i-presume-this-artic...</td>\n",
       "    </tr>\n",
       "  </tbody>\n",
       "</table>\n",
       "</div>"
      ],
      "text/plain": [
       "                  published      domain  \\\n",
       "0  2016-08-15 14:55:38.940Z  medium.com   \n",
       "1  2016-02-10 21:28:32.379Z  medium.com   \n",
       "2  2013-06-22 17:37:43.530Z  medium.com   \n",
       "3  2015-11-20 19:37:56.306Z  medium.com   \n",
       "4  2015-12-25 18:45:28.294Z  medium.com   \n",
       "\n",
       "                                                 url  \n",
       "0  https://medium.com/@RaceNote/joe-gibbs-racing-...  \n",
       "1  https://medium.com/@emlong_40534/at-the-lamp-w...  \n",
       "2     https://medium.com/@secos/commune-6bb05998323f  \n",
       "3  https://medium.com/elixir-magic/setting-up-dig...  \n",
       "4  https://medium.com/@secos/i-presume-this-artic...  "
      ]
     },
     "execution_count": 16,
     "metadata": {},
     "output_type": "execute_result"
    }
   ],
   "source": [
    "query_test = \"\"\"\n",
    "select *\n",
    "from test.mnaumov_import_test\n",
    "\"\"\"\n",
    "\n",
    "df_new = ph.read_clickhouse(query_test, connection = connection)\n",
    "df_new.head()"
   ]
  },
  {
   "cell_type": "code",
   "execution_count": null,
   "id": "bfc97b9b",
   "metadata": {},
   "outputs": [],
   "source": []
  }
 ],
 "metadata": {
  "kernelspec": {
   "display_name": "Python 3 (ipykernel)",
   "language": "python",
   "name": "python3"
  },
  "language_info": {
   "codemirror_mode": {
    "name": "ipython",
    "version": 3
   },
   "file_extension": ".py",
   "mimetype": "text/x-python",
   "name": "python",
   "nbconvert_exporter": "python",
   "pygments_lexer": "ipython3",
   "version": "3.8.1"
  }
 },
 "nbformat": 4,
 "nbformat_minor": 5
}
