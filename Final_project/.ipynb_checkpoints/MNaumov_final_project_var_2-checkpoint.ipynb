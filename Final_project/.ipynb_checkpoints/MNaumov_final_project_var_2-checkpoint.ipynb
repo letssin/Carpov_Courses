{
 "cells": [
  {
   "cell_type": "markdown",
   "id": "124d6e53",
   "metadata": {},
   "source": [
    "# Задание 1. A/B–тестирование"
   ]
  },
  {
   "cell_type": "code",
   "execution_count": 1,
   "id": "2934640b",
   "metadata": {},
   "outputs": [],
   "source": [
    "import pandas as pd\n",
    "import numpy as np\n",
    "import matplotlib.pyplot as plt\n",
    "import seaborn as sns\n",
    "%matplotlib inline"
   ]
  },
  {
   "cell_type": "code",
   "execution_count": 2,
   "id": "f08879e4",
   "metadata": {},
   "outputs": [
    {
     "data": {
      "text/html": [
       "<div>\n",
       "<style scoped>\n",
       "    .dataframe tbody tr th:only-of-type {\n",
       "        vertical-align: middle;\n",
       "    }\n",
       "\n",
       "    .dataframe tbody tr th {\n",
       "        vertical-align: top;\n",
       "    }\n",
       "\n",
       "    .dataframe thead th {\n",
       "        text-align: right;\n",
       "    }\n",
       "</style>\n",
       "<table border=\"1\" class=\"dataframe\">\n",
       "  <thead>\n",
       "    <tr style=\"text-align: right;\">\n",
       "      <th></th>\n",
       "      <th>id</th>\n",
       "      <th>grp</th>\n",
       "    </tr>\n",
       "  </thead>\n",
       "  <tbody>\n",
       "    <tr>\n",
       "      <th>0</th>\n",
       "      <td>1489</td>\n",
       "      <td>B</td>\n",
       "    </tr>\n",
       "    <tr>\n",
       "      <th>1</th>\n",
       "      <td>1627</td>\n",
       "      <td>A</td>\n",
       "    </tr>\n",
       "    <tr>\n",
       "      <th>2</th>\n",
       "      <td>1768</td>\n",
       "      <td>B</td>\n",
       "    </tr>\n",
       "    <tr>\n",
       "      <th>3</th>\n",
       "      <td>1783</td>\n",
       "      <td>B</td>\n",
       "    </tr>\n",
       "    <tr>\n",
       "      <th>4</th>\n",
       "      <td>1794</td>\n",
       "      <td>A</td>\n",
       "    </tr>\n",
       "  </tbody>\n",
       "</table>\n",
       "</div>"
      ],
      "text/plain": [
       "     id grp\n",
       "0  1489   B\n",
       "1  1627   A\n",
       "2  1768   B\n",
       "3  1783   B\n",
       "4  1794   A"
      ]
     },
     "execution_count": 2,
     "metadata": {},
     "output_type": "execute_result"
    }
   ],
   "source": [
    "#импортируем данные\n",
    "#во время импорт обнаружил, что разделитель \";\"\n",
    "gr = pd.read_csv('groups.csv', sep = ';')\n",
    "gr.head()\n"
   ]
  },
  {
   "cell_type": "code",
   "execution_count": 3,
   "id": "20235270",
   "metadata": {},
   "outputs": [
    {
     "data": {
      "text/html": [
       "<div>\n",
       "<style scoped>\n",
       "    .dataframe tbody tr th:only-of-type {\n",
       "        vertical-align: middle;\n",
       "    }\n",
       "\n",
       "    .dataframe tbody tr th {\n",
       "        vertical-align: top;\n",
       "    }\n",
       "\n",
       "    .dataframe thead th {\n",
       "        text-align: right;\n",
       "    }\n",
       "</style>\n",
       "<table border=\"1\" class=\"dataframe\">\n",
       "  <thead>\n",
       "    <tr style=\"text-align: right;\">\n",
       "      <th></th>\n",
       "      <th>id</th>\n",
       "      <th>grp</th>\n",
       "    </tr>\n",
       "  </thead>\n",
       "  <tbody>\n",
       "    <tr>\n",
       "      <th>0</th>\n",
       "      <td>5694584</td>\n",
       "      <td>B</td>\n",
       "    </tr>\n",
       "    <tr>\n",
       "      <th>1</th>\n",
       "      <td>5694830</td>\n",
       "      <td>B</td>\n",
       "    </tr>\n",
       "    <tr>\n",
       "      <th>2</th>\n",
       "      <td>5695057</td>\n",
       "      <td>B</td>\n",
       "    </tr>\n",
       "    <tr>\n",
       "      <th>3</th>\n",
       "      <td>5698872</td>\n",
       "      <td>B</td>\n",
       "    </tr>\n",
       "    <tr>\n",
       "      <th>4</th>\n",
       "      <td>5699067</td>\n",
       "      <td>B</td>\n",
       "    </tr>\n",
       "  </tbody>\n",
       "</table>\n",
       "</div>"
      ],
      "text/plain": [
       "        id grp\n",
       "0  5694584   B\n",
       "1  5694830   B\n",
       "2  5695057   B\n",
       "3  5698872   B\n",
       "4  5699067   B"
      ]
     },
     "execution_count": 3,
     "metadata": {},
     "output_type": "execute_result"
    }
   ],
   "source": [
    "gr1 = pd.read_csv('group_add.csv')\n",
    "gr1.head()"
   ]
  },
  {
   "cell_type": "code",
   "execution_count": 4,
   "id": "2e598002",
   "metadata": {},
   "outputs": [
    {
     "name": "stdout",
     "output_type": "stream",
     "text": [
      "id      int64\n",
      "grp    object\n",
      "dtype: object\n",
      "\n",
      "id      int64\n",
      "grp    object\n",
      "dtype: object\n"
     ]
    }
   ],
   "source": [
    "#проверим на всякий типы дынных\n",
    "print(gr.dtypes)\n",
    "print()\n",
    "print(gr1.dtypes)"
   ]
  },
  {
   "cell_type": "code",
   "execution_count": 5,
   "id": "88e6fb9a",
   "metadata": {},
   "outputs": [
    {
     "name": "stdout",
     "output_type": "stream",
     "text": [
      "id     0\n",
      "grp    0\n",
      "dtype: int64\n",
      "\n",
      "id     0\n",
      "grp    0\n",
      "dtype: int64\n"
     ]
    }
   ],
   "source": [
    "#проверим есть ли пропуски в данных\n",
    "print(gr.isnull().sum())\n",
    "print()\n",
    "print(gr1.isnull().sum())"
   ]
  },
  {
   "cell_type": "code",
   "execution_count": 6,
   "id": "24f47e4f",
   "metadata": {},
   "outputs": [
    {
     "name": "stdout",
     "output_type": "stream",
     "text": [
      "(74484, 2)\n",
      "\n",
      "(92, 2)\n"
     ]
    }
   ],
   "source": [
    "#оценим размер датасетов\n",
    "print(gr.shape)\n",
    "print()\n",
    "print(gr1.shape)"
   ]
  },
  {
   "cell_type": "code",
   "execution_count": 7,
   "id": "1e0d29e6",
   "metadata": {},
   "outputs": [
    {
     "data": {
      "text/html": [
       "<div>\n",
       "<style scoped>\n",
       "    .dataframe tbody tr th:only-of-type {\n",
       "        vertical-align: middle;\n",
       "    }\n",
       "\n",
       "    .dataframe tbody tr th {\n",
       "        vertical-align: top;\n",
       "    }\n",
       "\n",
       "    .dataframe thead th {\n",
       "        text-align: right;\n",
       "    }\n",
       "</style>\n",
       "<table border=\"1\" class=\"dataframe\">\n",
       "  <thead>\n",
       "    <tr style=\"text-align: right;\">\n",
       "      <th></th>\n",
       "      <th>id</th>\n",
       "      <th>grp</th>\n",
       "    </tr>\n",
       "  </thead>\n",
       "  <tbody>\n",
       "    <tr>\n",
       "      <th>0</th>\n",
       "      <td>1489</td>\n",
       "      <td>B</td>\n",
       "    </tr>\n",
       "    <tr>\n",
       "      <th>1</th>\n",
       "      <td>1627</td>\n",
       "      <td>A</td>\n",
       "    </tr>\n",
       "    <tr>\n",
       "      <th>2</th>\n",
       "      <td>1768</td>\n",
       "      <td>B</td>\n",
       "    </tr>\n",
       "    <tr>\n",
       "      <th>3</th>\n",
       "      <td>1783</td>\n",
       "      <td>B</td>\n",
       "    </tr>\n",
       "    <tr>\n",
       "      <th>4</th>\n",
       "      <td>1794</td>\n",
       "      <td>A</td>\n",
       "    </tr>\n",
       "  </tbody>\n",
       "</table>\n",
       "</div>"
      ],
      "text/plain": [
       "     id grp\n",
       "0  1489   B\n",
       "1  1627   A\n",
       "2  1768   B\n",
       "3  1783   B\n",
       "4  1794   A"
      ]
     },
     "execution_count": 7,
     "metadata": {},
     "output_type": "execute_result"
    }
   ],
   "source": [
    "#объеденим оба датасета в один\n",
    "users = pd.concat([gr, gr1])\n",
    "users.head()"
   ]
  },
  {
   "cell_type": "code",
   "execution_count": 8,
   "id": "f8ae7120",
   "metadata": {},
   "outputs": [
    {
     "data": {
      "text/plain": [
       "B    59883\n",
       "A    14693\n",
       "Name: grp, dtype: int64"
      ]
     },
     "execution_count": 8,
     "metadata": {},
     "output_type": "execute_result"
    }
   ],
   "source": [
    "#Посмотрим сколько пользователей в какой группе\n",
    "users.grp.value_counts()"
   ]
  },
  {
   "cell_type": "code",
   "execution_count": 9,
   "id": "af3f84ec",
   "metadata": {},
   "outputs": [
    {
     "data": {
      "text/html": [
       "<div>\n",
       "<style scoped>\n",
       "    .dataframe tbody tr th:only-of-type {\n",
       "        vertical-align: middle;\n",
       "    }\n",
       "\n",
       "    .dataframe tbody tr th {\n",
       "        vertical-align: top;\n",
       "    }\n",
       "\n",
       "    .dataframe thead th {\n",
       "        text-align: right;\n",
       "    }\n",
       "</style>\n",
       "<table border=\"1\" class=\"dataframe\">\n",
       "  <thead>\n",
       "    <tr style=\"text-align: right;\">\n",
       "      <th></th>\n",
       "      <th>student_id</th>\n",
       "    </tr>\n",
       "  </thead>\n",
       "  <tbody>\n",
       "    <tr>\n",
       "      <th>0</th>\n",
       "      <td>581585</td>\n",
       "    </tr>\n",
       "    <tr>\n",
       "      <th>1</th>\n",
       "      <td>5723133</td>\n",
       "    </tr>\n",
       "    <tr>\n",
       "      <th>2</th>\n",
       "      <td>3276743</td>\n",
       "    </tr>\n",
       "    <tr>\n",
       "      <th>3</th>\n",
       "      <td>4238589</td>\n",
       "    </tr>\n",
       "    <tr>\n",
       "      <th>4</th>\n",
       "      <td>4475369</td>\n",
       "    </tr>\n",
       "  </tbody>\n",
       "</table>\n",
       "</div>"
      ],
      "text/plain": [
       "   student_id\n",
       "0      581585\n",
       "1     5723133\n",
       "2     3276743\n",
       "3     4238589\n",
       "4     4475369"
      ]
     },
     "execution_count": 9,
     "metadata": {},
     "output_type": "execute_result"
    }
   ],
   "source": [
    "active_studs = pd.read_csv('active_studs.csv')\n",
    "active_studs.head()"
   ]
  },
  {
   "cell_type": "code",
   "execution_count": 10,
   "id": "2a09ead5",
   "metadata": {},
   "outputs": [
    {
     "data": {
      "text/plain": [
       "student_id    int64\n",
       "dtype: object"
      ]
     },
     "execution_count": 10,
     "metadata": {},
     "output_type": "execute_result"
    }
   ],
   "source": [
    "#Проверим тип данных\n",
    "active_studs.dtypes"
   ]
  },
  {
   "cell_type": "code",
   "execution_count": 11,
   "id": "dc938e80",
   "metadata": {
    "scrolled": false
   },
   "outputs": [
    {
     "data": {
      "text/html": [
       "<div>\n",
       "<style scoped>\n",
       "    .dataframe tbody tr th:only-of-type {\n",
       "        vertical-align: middle;\n",
       "    }\n",
       "\n",
       "    .dataframe tbody tr th {\n",
       "        vertical-align: top;\n",
       "    }\n",
       "\n",
       "    .dataframe thead th {\n",
       "        text-align: right;\n",
       "    }\n",
       "</style>\n",
       "<table border=\"1\" class=\"dataframe\">\n",
       "  <thead>\n",
       "    <tr style=\"text-align: right;\">\n",
       "      <th></th>\n",
       "      <th>student_id</th>\n",
       "      <th>rev</th>\n",
       "    </tr>\n",
       "  </thead>\n",
       "  <tbody>\n",
       "    <tr>\n",
       "      <th>0</th>\n",
       "      <td>1627</td>\n",
       "      <td>990.0</td>\n",
       "    </tr>\n",
       "    <tr>\n",
       "      <th>1</th>\n",
       "      <td>3185</td>\n",
       "      <td>690.0</td>\n",
       "    </tr>\n",
       "    <tr>\n",
       "      <th>2</th>\n",
       "      <td>25973</td>\n",
       "      <td>690.0</td>\n",
       "    </tr>\n",
       "    <tr>\n",
       "      <th>3</th>\n",
       "      <td>26280</td>\n",
       "      <td>690.0</td>\n",
       "    </tr>\n",
       "    <tr>\n",
       "      <th>4</th>\n",
       "      <td>100300</td>\n",
       "      <td>990.0</td>\n",
       "    </tr>\n",
       "  </tbody>\n",
       "</table>\n",
       "</div>"
      ],
      "text/plain": [
       "   student_id    rev\n",
       "0        1627  990.0\n",
       "1        3185  690.0\n",
       "2       25973  690.0\n",
       "3       26280  690.0\n",
       "4      100300  990.0"
      ]
     },
     "execution_count": 11,
     "metadata": {},
     "output_type": "execute_result"
    }
   ],
   "source": [
    "checks = pd.read_csv('checks.csv', sep= ';')\n",
    "checks.head()"
   ]
  },
  {
   "cell_type": "code",
   "execution_count": 12,
   "id": "112d1564",
   "metadata": {},
   "outputs": [
    {
     "data": {
      "text/html": [
       "<div>\n",
       "<style scoped>\n",
       "    .dataframe tbody tr th:only-of-type {\n",
       "        vertical-align: middle;\n",
       "    }\n",
       "\n",
       "    .dataframe tbody tr th {\n",
       "        vertical-align: top;\n",
       "    }\n",
       "\n",
       "    .dataframe thead th {\n",
       "        text-align: right;\n",
       "    }\n",
       "</style>\n",
       "<table border=\"1\" class=\"dataframe\">\n",
       "  <thead>\n",
       "    <tr style=\"text-align: right;\">\n",
       "      <th></th>\n",
       "      <th>student_id</th>\n",
       "      <th>grp</th>\n",
       "    </tr>\n",
       "  </thead>\n",
       "  <tbody>\n",
       "    <tr>\n",
       "      <th>0</th>\n",
       "      <td>1489</td>\n",
       "      <td>B</td>\n",
       "    </tr>\n",
       "    <tr>\n",
       "      <th>1</th>\n",
       "      <td>1627</td>\n",
       "      <td>A</td>\n",
       "    </tr>\n",
       "    <tr>\n",
       "      <th>2</th>\n",
       "      <td>1768</td>\n",
       "      <td>B</td>\n",
       "    </tr>\n",
       "    <tr>\n",
       "      <th>3</th>\n",
       "      <td>1783</td>\n",
       "      <td>B</td>\n",
       "    </tr>\n",
       "    <tr>\n",
       "      <th>4</th>\n",
       "      <td>1794</td>\n",
       "      <td>A</td>\n",
       "    </tr>\n",
       "  </tbody>\n",
       "</table>\n",
       "</div>"
      ],
      "text/plain": [
       "   student_id grp\n",
       "0        1489   B\n",
       "1        1627   A\n",
       "2        1768   B\n",
       "3        1783   B\n",
       "4        1794   A"
      ]
     },
     "execution_count": 12,
     "metadata": {},
     "output_type": "execute_result"
    }
   ],
   "source": [
    "#для удобства сделаем rename столбца ID в users\n",
    "users = users.rename(columns = {'id':'student_id'})\n",
    "users.head()"
   ]
  },
  {
   "cell_type": "code",
   "execution_count": 13,
   "id": "1b13dd1c",
   "metadata": {},
   "outputs": [
    {
     "data": {
      "text/plain": [
       "student_id      int64\n",
       "rev           float64\n",
       "dtype: object"
      ]
     },
     "execution_count": 13,
     "metadata": {},
     "output_type": "execute_result"
    }
   ],
   "source": [
    "#Проверим тип данных\n",
    "checks.dtypes"
   ]
  },
  {
   "cell_type": "code",
   "execution_count": 14,
   "id": "44d7e8ff",
   "metadata": {},
   "outputs": [
    {
     "data": {
      "text/plain": [
       "student_id    0\n",
       "rev           0\n",
       "dtype: int64"
      ]
     },
     "execution_count": 14,
     "metadata": {},
     "output_type": "execute_result"
    }
   ],
   "source": [
    "#проверим есть ли пропуски в данных\n",
    "checks.isnull().sum()"
   ]
  },
  {
   "cell_type": "markdown",
   "id": "ec0bbc33",
   "metadata": {},
   "source": [
    "Полагаю, что rev - сумма оплаты. Посмотрим, какие есть значения суммы в датасете"
   ]
  },
  {
   "cell_type": "code",
   "execution_count": 15,
   "id": "b11da5a1",
   "metadata": {
    "scrolled": false
   },
   "outputs": [
    {
     "data": {
      "text/plain": [
       "1900.0000    97\n",
       "290.0000     94\n",
       "690.0000     78\n",
       "199.0000     46\n",
       "990.0000     41\n",
       "1900.0001    36\n",
       "840.0000     27\n",
       "1140.0000    25\n",
       "580.0000     15\n",
       "590.0000     11\n",
       "398.0000      9\n",
       "1530.0000     8\n",
       "870.0000      6\n",
       "3660.0000     5\n",
       "1980.0000     4\n",
       "2890.0000     4\n",
       "2910.0000     4\n",
       "489.0000      3\n",
       "1160.0000     3\n",
       "2099.0000     3\n",
       "2820.0000     2\n",
       "1180.0000     2\n",
       "2220.0000     2\n",
       "2900.0000     1\n",
       "1830.0000     1\n",
       "597.0000      1\n",
       "1339.0000     1\n",
       "1968.0000     1\n",
       "1050.0000     1\n",
       "630.0000      1\n",
       "1729.0000     1\n",
       "1388.0000     1\n",
       "2190.0000     1\n",
       "4650.0000     1\n",
       "796.0000      1\n",
       "3040.0000     1\n",
       "880.0000      1\n",
       "3260.0000     1\n",
       "1039.0000     1\n",
       "Name: rev, dtype: int64"
      ]
     },
     "execution_count": 15,
     "metadata": {},
     "output_type": "execute_result"
    }
   ],
   "source": [
    "checks.rev.value_counts()"
   ]
  },
  {
   "cell_type": "markdown",
   "id": "823b3470",
   "metadata": {},
   "source": [
    "#### Посмотрим на описательную статистику суммы оплаты и построим гистограмму"
   ]
  },
  {
   "cell_type": "code",
   "execution_count": 16,
   "id": "1a07101e",
   "metadata": {},
   "outputs": [
    {
     "data": {
      "text/plain": [
       "count     541.000000\n",
       "mean     1059.752317\n",
       "std       762.712359\n",
       "min       199.000000\n",
       "25%       290.000000\n",
       "50%       840.000000\n",
       "75%      1900.000000\n",
       "max      4650.000000\n",
       "Name: rev, dtype: float64"
      ]
     },
     "execution_count": 16,
     "metadata": {},
     "output_type": "execute_result"
    }
   ],
   "source": [
    "checks.rev.describe()"
   ]
  },
  {
   "cell_type": "markdown",
   "id": "89c1c96a",
   "metadata": {},
   "source": [
    "Видим, что медиана меньше среднего, значит, скорее всего, распределение скошено влево. Кроме того, 75% значений находятся до 1900, а максимальное значение 4650, что может свидетельствовать о выбросах в данных и ненормальном характере распределения"
   ]
  },
  {
   "cell_type": "code",
   "execution_count": 17,
   "id": "d5274910",
   "metadata": {},
   "outputs": [
    {
     "data": {
      "image/png": "[encoded data removed]",
      "text/plain": [
       "<Figure size 500x500 with 1 Axes>"
      ]
     },
     "metadata": {},
     "output_type": "display_data"
    }
   ],
   "source": [
    "#построим график распределения значений, посмотрим визуально на форму рапределения\n",
    "sns.displot(checks.rev, bins = 20);"
   ]
  },
  {
   "cell_type": "code",
   "execution_count": null,
   "id": "1dcc8fc1",
   "metadata": {},
   "outputs": [],
   "source": []
  },
  {
   "cell_type": "markdown",
   "id": "5189c8ec",
   "metadata": {},
   "source": [
    "___"
   ]
  },
  {
   "cell_type": "markdown",
   "id": "5d7c3599",
   "metadata": {},
   "source": [
    "### Объединим все 4 датасета в 1. За основу принимаю решение взять датасет active_studs, т.к. тестируем разлиия в способе оплаты, т.е. изменения увидят только те пользователи, которые уже зашли на платформу"
   ]
  },
  {
   "cell_type": "code",
   "execution_count": 21,
   "id": "25a93aaa",
   "metadata": {},
   "outputs": [
    {
     "data": {
      "text/html": [
       "<div>\n",
       "<style scoped>\n",
       "    .dataframe tbody tr th:only-of-type {\n",
       "        vertical-align: middle;\n",
       "    }\n",
       "\n",
       "    .dataframe tbody tr th {\n",
       "        vertical-align: top;\n",
       "    }\n",
       "\n",
       "    .dataframe thead th {\n",
       "        text-align: right;\n",
       "    }\n",
       "</style>\n",
       "<table border=\"1\" class=\"dataframe\">\n",
       "  <thead>\n",
       "    <tr style=\"text-align: right;\">\n",
       "      <th></th>\n",
       "      <th>student_id</th>\n",
       "      <th>grp</th>\n",
       "    </tr>\n",
       "  </thead>\n",
       "  <tbody>\n",
       "    <tr>\n",
       "      <th>0</th>\n",
       "      <td>581585</td>\n",
       "      <td>A</td>\n",
       "    </tr>\n",
       "    <tr>\n",
       "      <th>1</th>\n",
       "      <td>5723133</td>\n",
       "      <td>A</td>\n",
       "    </tr>\n",
       "    <tr>\n",
       "      <th>2</th>\n",
       "      <td>3276743</td>\n",
       "      <td>B</td>\n",
       "    </tr>\n",
       "    <tr>\n",
       "      <th>3</th>\n",
       "      <td>4238589</td>\n",
       "      <td>A</td>\n",
       "    </tr>\n",
       "    <tr>\n",
       "      <th>4</th>\n",
       "      <td>4475369</td>\n",
       "      <td>B</td>\n",
       "    </tr>\n",
       "  </tbody>\n",
       "</table>\n",
       "</div>"
      ],
      "text/plain": [
       "   student_id grp\n",
       "0      581585   A\n",
       "1     5723133   A\n",
       "2     3276743   B\n",
       "3     4238589   A\n",
       "4     4475369   B"
      ]
     },
     "execution_count": 21,
     "metadata": {},
     "output_type": "execute_result"
    }
   ],
   "source": [
    "active_studs_w_gr = active_studs.merge(users, on = 'student_id')\n",
    "active_studs_w_gr.head()"
   ]
  },
  {
   "cell_type": "code",
   "execution_count": 22,
   "id": "ca250d82",
   "metadata": {},
   "outputs": [
    {
     "data": {
      "text/html": [
       "<div>\n",
       "<style scoped>\n",
       "    .dataframe tbody tr th:only-of-type {\n",
       "        vertical-align: middle;\n",
       "    }\n",
       "\n",
       "    .dataframe tbody tr th {\n",
       "        vertical-align: top;\n",
       "    }\n",
       "\n",
       "    .dataframe thead th {\n",
       "        text-align: right;\n",
       "    }\n",
       "</style>\n",
       "<table border=\"1\" class=\"dataframe\">\n",
       "  <thead>\n",
       "    <tr style=\"text-align: right;\">\n",
       "      <th></th>\n",
       "      <th>student_id</th>\n",
       "      <th>grp</th>\n",
       "      <th>rev</th>\n",
       "    </tr>\n",
       "  </thead>\n",
       "  <tbody>\n",
       "    <tr>\n",
       "      <th>0</th>\n",
       "      <td>581585</td>\n",
       "      <td>A</td>\n",
       "      <td>NaN</td>\n",
       "    </tr>\n",
       "    <tr>\n",
       "      <th>1</th>\n",
       "      <td>5723133</td>\n",
       "      <td>A</td>\n",
       "      <td>NaN</td>\n",
       "    </tr>\n",
       "    <tr>\n",
       "      <th>2</th>\n",
       "      <td>3276743</td>\n",
       "      <td>B</td>\n",
       "      <td>NaN</td>\n",
       "    </tr>\n",
       "    <tr>\n",
       "      <th>3</th>\n",
       "      <td>4238589</td>\n",
       "      <td>A</td>\n",
       "      <td>NaN</td>\n",
       "    </tr>\n",
       "    <tr>\n",
       "      <th>4</th>\n",
       "      <td>4475369</td>\n",
       "      <td>B</td>\n",
       "      <td>NaN</td>\n",
       "    </tr>\n",
       "  </tbody>\n",
       "</table>\n",
       "</div>"
      ],
      "text/plain": [
       "   student_id grp  rev\n",
       "0      581585   A  NaN\n",
       "1     5723133   A  NaN\n",
       "2     3276743   B  NaN\n",
       "3     4238589   A  NaN\n",
       "4     4475369   B  NaN"
      ]
     },
     "execution_count": 22,
     "metadata": {},
     "output_type": "execute_result"
    }
   ],
   "source": [
    "final_dataset = active_studs_w_gr.merge(checks, on = 'student_id', how = 'left')\n",
    "final_dataset.head()"
   ]
  },
  {
   "cell_type": "code",
   "execution_count": 25,
   "id": "c36b152b",
   "metadata": {},
   "outputs": [
    {
     "name": "stdout",
     "output_type": "stream",
     "text": [
      "(8341, 1)\n",
      "(8341, 2)\n",
      "(8341, 3)\n"
     ]
    }
   ],
   "source": [
    "#Проверим себя по колиеству записей\n",
    "print(active_studs.shape)\n",
    "print(active_studs_w_gr.shape)\n",
    "print(final_dataset.shape)"
   ]
  },
  {
   "cell_type": "code",
   "execution_count": 23,
   "id": "0c289772",
   "metadata": {},
   "outputs": [],
   "source": [
    "#заменим пустые значения в датафрейме на 0\n",
    "final_dataset = final_dataset.fillna(0)"
   ]
  },
  {
   "cell_type": "code",
   "execution_count": 24,
   "id": "7180e376",
   "metadata": {
    "scrolled": false
   },
   "outputs": [
    {
     "data": {
      "text/plain": [
       "0.0000       7949\n",
       "1900.0000      93\n",
       "290.0000       70\n",
       "1900.0001      35\n",
       "199.0000       32\n",
       "840.0000       24\n",
       "990.0000       22\n",
       "690.0000       17\n",
       "590.0000       11\n",
       "580.0000       11\n",
       "1140.0000      11\n",
       "1530.0000       8\n",
       "398.0000        7\n",
       "870.0000        6\n",
       "3660.0000       5\n",
       "2910.0000       4\n",
       "2890.0000       4\n",
       "2099.0000       3\n",
       "1160.0000       3\n",
       "489.0000        3\n",
       "1980.0000       3\n",
       "2820.0000       2\n",
       "2220.0000       2\n",
       "1388.0000       1\n",
       "796.0000        1\n",
       "880.0000        1\n",
       "1968.0000       1\n",
       "3260.0000       1\n",
       "3040.0000       1\n",
       "2190.0000       1\n",
       "1339.0000       1\n",
       "4650.0000       1\n",
       "1180.0000       1\n",
       "1050.0000       1\n",
       "1729.0000       1\n",
       "1830.0000       1\n",
       "1039.0000       1\n",
       "2900.0000       1\n",
       "597.0000        1\n",
       "Name: rev, dtype: int64"
      ]
     },
     "execution_count": 24,
     "metadata": {},
     "output_type": "execute_result"
    }
   ],
   "source": [
    "final_dataset.rev.value_counts()"
   ]
  },
  {
   "cell_type": "markdown",
   "id": "a42efe9a",
   "metadata": {},
   "source": [
    "добавлю колонку is_payment - будет означать был совершен платеж или нет. Потом посмотрим на Payment Ratio по группам "
   ]
  },
  {
   "cell_type": "code",
   "execution_count": 25,
   "id": "1cb8453e",
   "metadata": {},
   "outputs": [],
   "source": [
    "final_dataset['is_payment'] = final_dataset.rev.apply(lambda x: 1 if x > 0 else 0)"
   ]
  },
  {
   "cell_type": "code",
   "execution_count": 26,
   "id": "0497edd5",
   "metadata": {},
   "outputs": [
    {
     "data": {
      "text/html": [
       "<div>\n",
       "<style scoped>\n",
       "    .dataframe tbody tr th:only-of-type {\n",
       "        vertical-align: middle;\n",
       "    }\n",
       "\n",
       "    .dataframe tbody tr th {\n",
       "        vertical-align: top;\n",
       "    }\n",
       "\n",
       "    .dataframe thead th {\n",
       "        text-align: right;\n",
       "    }\n",
       "</style>\n",
       "<table border=\"1\" class=\"dataframe\">\n",
       "  <thead>\n",
       "    <tr style=\"text-align: right;\">\n",
       "      <th></th>\n",
       "      <th>grp</th>\n",
       "      <th>is_payment</th>\n",
       "    </tr>\n",
       "  </thead>\n",
       "  <tbody>\n",
       "    <tr>\n",
       "      <th>0</th>\n",
       "      <td>A</td>\n",
       "      <td>0.050715</td>\n",
       "    </tr>\n",
       "    <tr>\n",
       "      <th>1</th>\n",
       "      <td>B</td>\n",
       "      <td>0.046156</td>\n",
       "    </tr>\n",
       "  </tbody>\n",
       "</table>\n",
       "</div>"
      ],
      "text/plain": [
       "  grp  is_payment\n",
       "0   A    0.050715\n",
       "1   B    0.046156"
      ]
     },
     "execution_count": 26,
     "metadata": {},
     "output_type": "execute_result"
    }
   ],
   "source": [
    "final_dataset.groupby('grp', as_index = False)\\\n",
    "    .agg({'is_payment':'mean'})"
   ]
  },
  {
   "cell_type": "markdown",
   "id": "75e378c7",
   "metadata": {},
   "source": [
    "### Видим, что в целевой группе (B) payment ratio ниже, чем в тестовой (A). 4.6% против 5.07%"
   ]
  },
  {
   "cell_type": "markdown",
   "id": "ffdce866",
   "metadata": {},
   "source": [
    "#### Протестируем нулевую гипотезу о том, что различия получены случайно"
   ]
  },
  {
   "cell_type": "code",
   "execution_count": 51,
   "id": "4c9c17aa",
   "metadata": {},
   "outputs": [],
   "source": [
    "#используем критерий Хи-квадрат\n",
    "from scipy.stats import chisquare"
   ]
  },
  {
   "cell_type": "code",
   "execution_count": 54,
   "id": "b5c90059",
   "metadata": {},
   "outputs": [
    {
     "data": {
      "text/plain": [
       "Power_divergenceResult(statistic=0.00021455834047341314, pvalue=0.988313156398297)"
      ]
     },
     "execution_count": 54,
     "metadata": {},
     "output_type": "execute_result"
    }
   ],
   "source": [
    "chisquare(f_obs=[0.050715, 0.046156])"
   ]
  },
  {
   "cell_type": "markdown",
   "id": "e3a87eb5",
   "metadata": {},
   "source": [
    "# Так, ладно..."
   ]
  },
  {
   "cell_type": "markdown",
   "id": "64c406d1",
   "metadata": {},
   "source": [
    "### Посмотрим на средний чек в двух группах\n",
    "#### Для этого оставим только тех, кто совершил оплату"
   ]
  },
  {
   "cell_type": "code",
   "execution_count": 27,
   "id": "8c1f3103",
   "metadata": {},
   "outputs": [
    {
     "data": {
      "text/html": [
       "<div>\n",
       "<style scoped>\n",
       "    .dataframe tbody tr th:only-of-type {\n",
       "        vertical-align: middle;\n",
       "    }\n",
       "\n",
       "    .dataframe tbody tr th {\n",
       "        vertical-align: top;\n",
       "    }\n",
       "\n",
       "    .dataframe thead th {\n",
       "        text-align: right;\n",
       "    }\n",
       "</style>\n",
       "<table border=\"1\" class=\"dataframe\">\n",
       "  <thead>\n",
       "    <tr style=\"text-align: right;\">\n",
       "      <th></th>\n",
       "      <th>student_id</th>\n",
       "      <th>grp</th>\n",
       "      <th>rev</th>\n",
       "      <th>is_payment</th>\n",
       "    </tr>\n",
       "  </thead>\n",
       "  <tbody>\n",
       "    <tr>\n",
       "      <th>62</th>\n",
       "      <td>1184303</td>\n",
       "      <td>A</td>\n",
       "      <td>1530.0000</td>\n",
       "      <td>1</td>\n",
       "    </tr>\n",
       "    <tr>\n",
       "      <th>67</th>\n",
       "      <td>3354191</td>\n",
       "      <td>B</td>\n",
       "      <td>1900.0001</td>\n",
       "      <td>1</td>\n",
       "    </tr>\n",
       "    <tr>\n",
       "      <th>77</th>\n",
       "      <td>3278734</td>\n",
       "      <td>B</td>\n",
       "      <td>1900.0000</td>\n",
       "      <td>1</td>\n",
       "    </tr>\n",
       "    <tr>\n",
       "      <th>99</th>\n",
       "      <td>720651</td>\n",
       "      <td>A</td>\n",
       "      <td>1980.0000</td>\n",
       "      <td>1</td>\n",
       "    </tr>\n",
       "    <tr>\n",
       "      <th>193</th>\n",
       "      <td>1232221</td>\n",
       "      <td>B</td>\n",
       "      <td>1900.0000</td>\n",
       "      <td>1</td>\n",
       "    </tr>\n",
       "  </tbody>\n",
       "</table>\n",
       "</div>"
      ],
      "text/plain": [
       "     student_id grp        rev  is_payment\n",
       "62      1184303   A  1530.0000           1\n",
       "67      3354191   B  1900.0001           1\n",
       "77      3278734   B  1900.0000           1\n",
       "99       720651   A  1980.0000           1\n",
       "193     1232221   B  1900.0000           1"
      ]
     },
     "execution_count": 27,
     "metadata": {},
     "output_type": "execute_result"
    }
   ],
   "source": [
    "payed = final_dataset.query('rev > 0')\n",
    "payed.head()"
   ]
  },
  {
   "cell_type": "code",
   "execution_count": 28,
   "id": "1175ec02",
   "metadata": {},
   "outputs": [
    {
     "data": {
      "text/html": [
       "<div>\n",
       "<style scoped>\n",
       "    .dataframe tbody tr th:only-of-type {\n",
       "        vertical-align: middle;\n",
       "    }\n",
       "\n",
       "    .dataframe tbody tr th {\n",
       "        vertical-align: top;\n",
       "    }\n",
       "\n",
       "    .dataframe thead th {\n",
       "        text-align: right;\n",
       "    }\n",
       "</style>\n",
       "<table border=\"1\" class=\"dataframe\">\n",
       "  <thead>\n",
       "    <tr style=\"text-align: right;\">\n",
       "      <th></th>\n",
       "      <th>grp</th>\n",
       "      <th>avg_payment</th>\n",
       "    </tr>\n",
       "  </thead>\n",
       "  <tbody>\n",
       "    <tr>\n",
       "      <th>0</th>\n",
       "      <td>A</td>\n",
       "      <td>933.589744</td>\n",
       "    </tr>\n",
       "    <tr>\n",
       "      <th>1</th>\n",
       "      <td>B</td>\n",
       "      <td>1257.878992</td>\n",
       "    </tr>\n",
       "  </tbody>\n",
       "</table>\n",
       "</div>"
      ],
      "text/plain": [
       "  grp  avg_payment\n",
       "0   A   933.589744\n",
       "1   B  1257.878992"
      ]
     },
     "execution_count": 28,
     "metadata": {},
     "output_type": "execute_result"
    }
   ],
   "source": [
    "payed.groupby('grp', as_index = False)\\\n",
    "    .agg({'rev':'mean'})\\\n",
    "    .rename(columns = {'rev':'avg_payment'})"
   ]
  },
  {
   "cell_type": "markdown",
   "id": "99dc2a27",
   "metadata": {},
   "source": [
    "#### Видим, что средний чек в двух группах различается в пользу целевой группы"
   ]
  },
  {
   "cell_type": "markdown",
   "id": "75e1e03e",
   "metadata": {},
   "source": [
    "##### Для того, чтобы выбрать, какой статистический критерий будем использовать проверим наши данные на нормальность и наличие выбросов"
   ]
  },
  {
   "cell_type": "code",
   "execution_count": 29,
   "id": "c95bbf47",
   "metadata": {},
   "outputs": [
    {
     "data": {
      "text/plain": [
       "count      78.000000\n",
       "mean      933.589744\n",
       "std       919.932711\n",
       "min       199.000000\n",
       "25%       290.000000\n",
       "50%       585.000000\n",
       "75%      1114.750000\n",
       "max      3660.000000\n",
       "Name: rev, dtype: float64"
      ]
     },
     "execution_count": 29,
     "metadata": {},
     "output_type": "execute_result"
    }
   ],
   "source": [
    "payed.query(\"grp == 'A'\").rev.describe()"
   ]
  },
  {
   "cell_type": "code",
   "execution_count": 30,
   "id": "fd6bac61",
   "metadata": {},
   "outputs": [
    {
     "data": {
      "text/plain": [
       "count     314.000000\n",
       "mean     1257.878992\n",
       "std       790.864254\n",
       "min       199.000000\n",
       "25%       511.750000\n",
       "50%      1140.000000\n",
       "75%      1900.000000\n",
       "max      4650.000000\n",
       "Name: rev, dtype: float64"
      ]
     },
     "execution_count": 30,
     "metadata": {},
     "output_type": "execute_result"
    }
   ],
   "source": [
    "payed.query(\"grp == 'B'\").rev.describe()"
   ]
  },
  {
   "cell_type": "code",
   "execution_count": 31,
   "id": "d3786af5",
   "metadata": {},
   "outputs": [
    {
     "data": {
      "image/png": "[encoded data removed]",
      "text/plain": [
       "<Figure size 1200x600 with 2 Axes>"
      ]
     },
     "metadata": {},
     "output_type": "display_data"
    }
   ],
   "source": [
    "fig, (ax1, ax2) = plt.subplots(1, 2, figsize=(12, 6))\n",
    "ax1 = sns.histplot(payed.query(\"grp == 'A'\").rev, ax=ax1, kde = False, bins = 20, color = 'red', alpha = 0.5)\n",
    "ax1.set_title('Group A', fontsize = 20)\n",
    "ax2 = sns.histplot(payed.query(\"grp == 'B'\").rev, ax=ax2, kde = False, bins = 20)\n",
    "ax2.set_title('Group B', fontsize = 20);\n"
   ]
  },
  {
   "cell_type": "markdown",
   "id": "6428e28e",
   "metadata": {},
   "source": [
    "Визуально, распределение отличается от номального. Применим еще тест на нормальность"
   ]
  },
  {
   "cell_type": "code",
   "execution_count": 32,
   "id": "cbd380db",
   "metadata": {},
   "outputs": [],
   "source": [
    "from scipy.stats import normaltest"
   ]
  },
  {
   "cell_type": "code",
   "execution_count": 36,
   "id": "16abf87a",
   "metadata": {},
   "outputs": [
    {
     "name": "stdout",
     "output_type": "stream",
     "text": [
      "Results for grp A\n",
      "NormaltestResult(statistic=30.378419638487458, pvalue=2.531686880422046e-07)\n",
      "\n",
      "Results for grp B\n",
      "NormaltestResult(statistic=6.795662714490353, pvalue=0.03344572319462542)\n"
     ]
    }
   ],
   "source": [
    "print('Results for grp A')\n",
    "print(normaltest(payed.query(\"grp == 'A'\").rev))\n",
    "print()\n",
    "print('Results for grp B')\n",
    "print(normaltest(payed.query(\"grp == 'B'\").rev))"
   ]
  },
  {
   "cell_type": "markdown",
   "id": "06a273b2",
   "metadata": {},
   "source": [
    "<b>P-value в обоих группах меньше 0,05, значит, есть основания отлонить нулевую гипотезу о том, что выборка взята из нормального распределения</b>\n",
    "<br><br>\n",
    "### Т.к. распределения наших знаений отличаются от нормального и имеют заметные выбросы, будем исполльзовать тест Мана-Уитни"
   ]
  },
  {
   "cell_type": "code",
   "execution_count": 37,
   "id": "2d35f2c5",
   "metadata": {},
   "outputs": [],
   "source": [
    "from scipy.stats import mannwhitneyu"
   ]
  },
  {
   "cell_type": "code",
   "execution_count": 39,
   "id": "d8da8070",
   "metadata": {},
   "outputs": [
    {
     "data": {
      "text/plain": [
       "MannwhitneyuResult(statistic=9001.0, pvalue=0.0002511393831406922)"
      ]
     },
     "execution_count": 39,
     "metadata": {},
     "output_type": "execute_result"
    }
   ],
   "source": [
    "mannwhitneyu(payed.query(\"grp == 'A'\").rev, payed.query(\"grp == 'B'\").rev)"
   ]
  },
  {
   "cell_type": "markdown",
   "id": "e67558c9",
   "metadata": {},
   "source": [
    "## Вывод:\n",
    "\n",
    "### Имеем снижение payment ratio в целевой группе, хотя тест показал, что различия с контрольной группой незначимые, они есть. Средний чек в целевой группе увеличился и различия являются значимыми. По условию, изменения коснулись механики оплаты, значит, по идее, разница должны быть скорее в payment ratio, нежели в размере среднего чека. В данном месте, я бы предложил оценить payment ratio с историческими значениями, насколько велико снижение отногсительно исторических данных, а так же рассмотреть вопрос о продолжении эксперимента."
   ]
  },
  {
   "cell_type": "code",
   "execution_count": null,
   "id": "3ec97dcf",
   "metadata": {},
   "outputs": [],
   "source": []
  },
  {
   "cell_type": "code",
   "execution_count": null,
   "id": "5964e1a9",
   "metadata": {},
   "outputs": [],
   "source": []
  },
  {
   "cell_type": "markdown",
   "id": "ec474d13",
   "metadata": {},
   "source": [
    "# Задание 2. SQL"
   ]
  },
  {
   "cell_type": "markdown",
   "id": "ca6eba0e",
   "metadata": {},
   "source": [
    "### 2.1 Очень усердные ученики"
   ]
  },
  {
   "cell_type": "code",
   "execution_count": 40,
   "id": "975657c4",
   "metadata": {},
   "outputs": [],
   "source": [
    "import pandahouse as ph"
   ]
  },
  {
   "cell_type": "code",
   "execution_count": 41,
   "id": "ea2d94d4",
   "metadata": {},
   "outputs": [],
   "source": [
    "connection = dict(database = 'default',\n",
    "                  host = 'https://clickhouse.lab.karpov.courses',\n",
    "                  user = 'student',\n",
    "                  password = 'dpo_python_2020')"
   ]
  },
  {
   "cell_type": "code",
   "execution_count": 44,
   "id": "f1360e7b",
   "metadata": {},
   "outputs": [
    {
     "data": {
      "text/html": [
       "<div>\n",
       "<style scoped>\n",
       "    .dataframe tbody tr th:only-of-type {\n",
       "        vertical-align: middle;\n",
       "    }\n",
       "\n",
       "    .dataframe tbody tr th {\n",
       "        vertical-align: top;\n",
       "    }\n",
       "\n",
       "    .dataframe thead th {\n",
       "        text-align: right;\n",
       "    }\n",
       "</style>\n",
       "<table border=\"1\" class=\"dataframe\">\n",
       "  <thead>\n",
       "    <tr style=\"text-align: right;\">\n",
       "      <th></th>\n",
       "      <th>month</th>\n",
       "      <th>count_of_assiduous_students</th>\n",
       "    </tr>\n",
       "  </thead>\n",
       "  <tbody>\n",
       "    <tr>\n",
       "      <th>0</th>\n",
       "      <td>2021-10-01</td>\n",
       "      <td>136</td>\n",
       "    </tr>\n",
       "  </tbody>\n",
       "</table>\n",
       "</div>"
      ],
      "text/plain": [
       "       month  count_of_assiduous_students\n",
       "0 2021-10-01                          136"
      ]
     },
     "execution_count": 44,
     "metadata": {},
     "output_type": "execute_result"
    }
   ],
   "source": [
    "assiduous_students = \"\"\"\n",
    "select month, count(st_id) as count_of_assiduous_students\n",
    "from (\n",
    "    select st_id, toStartOfMonth(timest) as month, sum(correct) as score from default.peas \n",
    "    group by st_id, month \n",
    "    having score >= 20) as SUBQ\n",
    "group by month    \n",
    "order by count_of_assiduous_students DESC\n",
    "\"\"\"\n",
    "df_assiduous_student = ph.read_clickhouse(assiduous_students, connection = connection)\n",
    "df_assiduous_student"
   ]
  },
  {
   "cell_type": "markdown",
   "id": "3cd1cf5f",
   "metadata": {},
   "source": [
    "#### Таблица содержит только 1 месяц, но я добавил еще месяц в селект, чтобы можно было делать разбивку по месяцам, в случае необходимости"
   ]
  },
  {
   "cell_type": "markdown",
   "id": "99cd6093",
   "metadata": {},
   "source": [
    "### 2.2 Оптимизация воронки"
   ]
  },
  {
   "cell_type": "code",
   "execution_count": null,
   "id": "88cb7403",
   "metadata": {},
   "outputs": [],
   "source": []
  }
 ],
 "metadata": {
  "kernelspec": {
   "display_name": "Python 3 (ipykernel)",
   "language": "python",
   "name": "python3"
  },
  "language_info": {
   "codemirror_mode": {
    "name": "ipython",
    "version": 3
   },
   "file_extension": ".py",
   "mimetype": "text/x-python",
   "name": "python",
   "nbconvert_exporter": "python",
   "pygments_lexer": "ipython3",
   "version": "3.8.1"
  }
 },
 "nbformat": 4,
 "nbformat_minor": 5
}
