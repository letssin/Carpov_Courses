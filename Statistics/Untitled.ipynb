{
 "cells": [
  {
   "cell_type": "code",
   "execution_count": 2,
   "id": "0ab1fe91",
   "metadata": {},
   "outputs": [],
   "source": [
    "import numpy as np\n",
    "from scipy.stats import chi2_contingency"
   ]
  },
  {
   "cell_type": "code",
   "execution_count": 3,
   "id": "ac57e298",
   "metadata": {},
   "outputs": [],
   "source": [
    "obs = np.array([[20, 15], [11, 12], [7, 9]])\n",
    "res = chi2_contingency(obs)"
   ]
  },
  {
   "cell_type": "code",
   "execution_count": 4,
   "id": "51b23037",
   "metadata": {},
   "outputs": [
    {
     "data": {
      "text/plain": [
       "(0.9544070774762996,\n",
       " 0.6205162173513055,\n",
       " 2,\n",
       " array([[17.97297297, 17.02702703],\n",
       "        [11.81081081, 11.18918919],\n",
       "        [ 8.21621622,  7.78378378]]))"
      ]
     },
     "execution_count": 4,
     "metadata": {},
     "output_type": "execute_result"
    }
   ],
   "source": [
    "res"
   ]
  },
  {
   "cell_type": "code",
   "execution_count": null,
   "id": "5bffc8d4",
   "metadata": {},
   "outputs": [],
   "source": []
  }
 ],
 "metadata": {
  "kernelspec": {
   "display_name": "Python 3 (ipykernel)",
   "language": "python",
   "name": "python3"
  },
  "language_info": {
   "codemirror_mode": {
    "name": "ipython",
    "version": 3
   },
   "file_extension": ".py",
   "mimetype": "text/x-python",
   "name": "python",
   "nbconvert_exporter": "python",
   "pygments_lexer": "ipython3",
   "version": "3.8.1"
  }
 },
 "nbformat": 4,
 "nbformat_minor": 5
}
