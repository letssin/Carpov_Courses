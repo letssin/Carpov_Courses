{
 "cells": [
  {
   "cell_type": "code",
   "execution_count": 14,
   "id": "b98207e7",
   "metadata": {},
   "outputs": [],
   "source": [
    "import pandas as pd\n",
    "import seaborn as sns\n",
    "import numpy as np\n",
    "from scipy.stats import mannwhitneyu\n",
    "from scipy.stats import ttest_ind\n",
    "from scipy.stats import f_oneway\n",
    "%matplotlib inline"
   ]
  },
  {
   "cell_type": "code",
   "execution_count": 2,
   "id": "3bc1ef4b",
   "metadata": {},
   "outputs": [],
   "source": [
    "ads_data = pd.read_csv('ads_data.csv.zip', compression = 'zip')"
   ]
  },
  {
   "cell_type": "code",
   "execution_count": 6,
   "id": "28bc8ab8",
   "metadata": {},
   "outputs": [
    {
     "data": {
      "text/html": [
       "<div>\n",
       "<style scoped>\n",
       "    .dataframe tbody tr th:only-of-type {\n",
       "        vertical-align: middle;\n",
       "    }\n",
       "\n",
       "    .dataframe tbody tr th {\n",
       "        vertical-align: top;\n",
       "    }\n",
       "\n",
       "    .dataframe thead th {\n",
       "        text-align: right;\n",
       "    }\n",
       "</style>\n",
       "<table border=\"1\" class=\"dataframe\">\n",
       "  <thead>\n",
       "    <tr style=\"text-align: right;\">\n",
       "      <th></th>\n",
       "      <th>ad_id</th>\n",
       "      <th>time</th>\n",
       "      <th>event</th>\n",
       "      <th>date</th>\n",
       "      <th>ad_cost_type</th>\n",
       "      <th>has_video</th>\n",
       "      <th>client_union_id</th>\n",
       "      <th>campaign_union_id</th>\n",
       "      <th>platform</th>\n",
       "      <th>ad_cost</th>\n",
       "      <th>target_audience_count</th>\n",
       "      <th>user_id</th>\n",
       "    </tr>\n",
       "  </thead>\n",
       "  <tbody>\n",
       "    <tr>\n",
       "      <th>0</th>\n",
       "      <td>23456</td>\n",
       "      <td>1554076848</td>\n",
       "      <td>view</td>\n",
       "      <td>2019-04-01</td>\n",
       "      <td>CPM</td>\n",
       "      <td>0</td>\n",
       "      <td>5681</td>\n",
       "      <td>23456</td>\n",
       "      <td>android</td>\n",
       "      <td>190.0</td>\n",
       "      <td>125560</td>\n",
       "      <td>793</td>\n",
       "    </tr>\n",
       "    <tr>\n",
       "      <th>1</th>\n",
       "      <td>111941</td>\n",
       "      <td>1554135866</td>\n",
       "      <td>view</td>\n",
       "      <td>2019-04-01</td>\n",
       "      <td>CPM</td>\n",
       "      <td>0</td>\n",
       "      <td>111793</td>\n",
       "      <td>111941</td>\n",
       "      <td>ios</td>\n",
       "      <td>215.2</td>\n",
       "      <td>32277</td>\n",
       "      <td>1041</td>\n",
       "    </tr>\n",
       "    <tr>\n",
       "      <th>2</th>\n",
       "      <td>111941</td>\n",
       "      <td>1554135866</td>\n",
       "      <td>view</td>\n",
       "      <td>2019-04-01</td>\n",
       "      <td>CPM</td>\n",
       "      <td>0</td>\n",
       "      <td>111793</td>\n",
       "      <td>111941</td>\n",
       "      <td>ios</td>\n",
       "      <td>215.2</td>\n",
       "      <td>32277</td>\n",
       "      <td>41</td>\n",
       "    </tr>\n",
       "    <tr>\n",
       "      <th>3</th>\n",
       "      <td>42987</td>\n",
       "      <td>1554135866</td>\n",
       "      <td>view</td>\n",
       "      <td>2019-04-01</td>\n",
       "      <td>CPM</td>\n",
       "      <td>0</td>\n",
       "      <td>28541</td>\n",
       "      <td>42985</td>\n",
       "      <td>ios</td>\n",
       "      <td>199.1</td>\n",
       "      <td>80160</td>\n",
       "      <td>898</td>\n",
       "    </tr>\n",
       "    <tr>\n",
       "      <th>4</th>\n",
       "      <td>23456</td>\n",
       "      <td>1554135866</td>\n",
       "      <td>view</td>\n",
       "      <td>2019-04-01</td>\n",
       "      <td>CPM</td>\n",
       "      <td>0</td>\n",
       "      <td>5681</td>\n",
       "      <td>23456</td>\n",
       "      <td>web</td>\n",
       "      <td>190.0</td>\n",
       "      <td>125560</td>\n",
       "      <td>29</td>\n",
       "    </tr>\n",
       "  </tbody>\n",
       "</table>\n",
       "</div>"
      ],
      "text/plain": [
       "    ad_id        time event        date ad_cost_type  has_video  \\\n",
       "0   23456  1554076848  view  2019-04-01          CPM          0   \n",
       "1  111941  1554135866  view  2019-04-01          CPM          0   \n",
       "2  111941  1554135866  view  2019-04-01          CPM          0   \n",
       "3   42987  1554135866  view  2019-04-01          CPM          0   \n",
       "4   23456  1554135866  view  2019-04-01          CPM          0   \n",
       "\n",
       "   client_union_id  campaign_union_id platform  ad_cost  \\\n",
       "0             5681              23456  android    190.0   \n",
       "1           111793             111941      ios    215.2   \n",
       "2           111793             111941      ios    215.2   \n",
       "3            28541              42985      ios    199.1   \n",
       "4             5681              23456      web    190.0   \n",
       "\n",
       "   target_audience_count  user_id  \n",
       "0                 125560      793  \n",
       "1                  32277     1041  \n",
       "2                  32277       41  \n",
       "3                  80160      898  \n",
       "4                 125560       29  "
      ]
     },
     "execution_count": 6,
     "metadata": {},
     "output_type": "execute_result"
    }
   ],
   "source": [
    "ads_data.head()"
   ]
  },
  {
   "cell_type": "code",
   "execution_count": 3,
   "id": "463ad2b7",
   "metadata": {},
   "outputs": [],
   "source": [
    "df = ads_data.groupby(['ad_id', 'ad_cost_type', 'platform', 'event'], as_index = False)\\\n",
    "    .agg({'user_id':'count'})"
   ]
  },
  {
   "cell_type": "code",
   "execution_count": 4,
   "id": "7c62152c",
   "metadata": {},
   "outputs": [],
   "source": [
    "df = df.pivot_table(index = ['ad_id', 'ad_cost_type', 'platform'], columns = 'event', values = 'user_id').reset_index()"
   ]
  },
  {
   "cell_type": "code",
   "execution_count": 12,
   "id": "fc59eef4",
   "metadata": {
    "scrolled": true
   },
   "outputs": [
    {
     "data": {
      "text/html": [
       "<div>\n",
       "<style scoped>\n",
       "    .dataframe tbody tr th:only-of-type {\n",
       "        vertical-align: middle;\n",
       "    }\n",
       "\n",
       "    .dataframe tbody tr th {\n",
       "        vertical-align: top;\n",
       "    }\n",
       "\n",
       "    .dataframe thead th {\n",
       "        text-align: right;\n",
       "    }\n",
       "</style>\n",
       "<table border=\"1\" class=\"dataframe\">\n",
       "  <thead>\n",
       "    <tr style=\"text-align: right;\">\n",
       "      <th>event</th>\n",
       "      <th>ad_id</th>\n",
       "      <th>ad_cost_type</th>\n",
       "      <th>platform</th>\n",
       "      <th>click</th>\n",
       "      <th>view</th>\n",
       "    </tr>\n",
       "  </thead>\n",
       "  <tbody>\n",
       "    <tr>\n",
       "      <th>0</th>\n",
       "      <td>3</td>\n",
       "      <td>CPC</td>\n",
       "      <td>android</td>\n",
       "      <td>5.0</td>\n",
       "      <td>244.0</td>\n",
       "    </tr>\n",
       "    <tr>\n",
       "      <th>1</th>\n",
       "      <td>3</td>\n",
       "      <td>CPC</td>\n",
       "      <td>ios</td>\n",
       "      <td>3.0</td>\n",
       "      <td>147.0</td>\n",
       "    </tr>\n",
       "    <tr>\n",
       "      <th>2</th>\n",
       "      <td>3</td>\n",
       "      <td>CPC</td>\n",
       "      <td>web</td>\n",
       "      <td>1.0</td>\n",
       "      <td>99.0</td>\n",
       "    </tr>\n",
       "    <tr>\n",
       "      <th>3</th>\n",
       "      <td>2132</td>\n",
       "      <td>CPC</td>\n",
       "      <td>android</td>\n",
       "      <td>1.0</td>\n",
       "      <td>55.0</td>\n",
       "    </tr>\n",
       "    <tr>\n",
       "      <th>4</th>\n",
       "      <td>2132</td>\n",
       "      <td>CPC</td>\n",
       "      <td>ios</td>\n",
       "      <td>NaN</td>\n",
       "      <td>26.0</td>\n",
       "    </tr>\n",
       "  </tbody>\n",
       "</table>\n",
       "</div>"
      ],
      "text/plain": [
       "event  ad_id ad_cost_type platform  click   view\n",
       "0          3          CPC  android    5.0  244.0\n",
       "1          3          CPC      ios    3.0  147.0\n",
       "2          3          CPC      web    1.0   99.0\n",
       "3       2132          CPC  android    1.0   55.0\n",
       "4       2132          CPC      ios    NaN   26.0"
      ]
     },
     "execution_count": 12,
     "metadata": {},
     "output_type": "execute_result"
    }
   ],
   "source": [
    "df.head()"
   ]
  },
  {
   "cell_type": "code",
   "execution_count": 6,
   "id": "153dbd90",
   "metadata": {},
   "outputs": [],
   "source": [
    "cost_type_df = df.groupby(['ad_id','ad_cost_type'], as_index = False)\\\n",
    "    .agg({'click':'sum', 'view':'sum'})"
   ]
  },
  {
   "cell_type": "code",
   "execution_count": 8,
   "id": "1cdd48ea",
   "metadata": {},
   "outputs": [],
   "source": [
    "cost_type_df = cost_type_df.query('view >= 100')"
   ]
  },
  {
   "cell_type": "code",
   "execution_count": 7,
   "id": "50bb11aa",
   "metadata": {},
   "outputs": [],
   "source": [
    "cost_type_df['CTR'] = cost_type_df['click'] / cost_type_df['view']"
   ]
  },
  {
   "cell_type": "code",
   "execution_count": 9,
   "id": "d2562c4f",
   "metadata": {},
   "outputs": [
    {
     "data": {
      "text/html": [
       "<div>\n",
       "<style scoped>\n",
       "    .dataframe tbody tr th:only-of-type {\n",
       "        vertical-align: middle;\n",
       "    }\n",
       "\n",
       "    .dataframe tbody tr th {\n",
       "        vertical-align: top;\n",
       "    }\n",
       "\n",
       "    .dataframe thead th {\n",
       "        text-align: right;\n",
       "    }\n",
       "</style>\n",
       "<table border=\"1\" class=\"dataframe\">\n",
       "  <thead>\n",
       "    <tr style=\"text-align: right;\">\n",
       "      <th>event</th>\n",
       "      <th>ad_id</th>\n",
       "      <th>ad_cost_type</th>\n",
       "      <th>click</th>\n",
       "      <th>view</th>\n",
       "      <th>CTR</th>\n",
       "    </tr>\n",
       "  </thead>\n",
       "  <tbody>\n",
       "    <tr>\n",
       "      <th>0</th>\n",
       "      <td>3</td>\n",
       "      <td>CPC</td>\n",
       "      <td>9.0</td>\n",
       "      <td>490.0</td>\n",
       "      <td>0.018367</td>\n",
       "    </tr>\n",
       "    <tr>\n",
       "      <th>2</th>\n",
       "      <td>2276</td>\n",
       "      <td>CPC</td>\n",
       "      <td>2.0</td>\n",
       "      <td>1454.0</td>\n",
       "      <td>0.001376</td>\n",
       "    </tr>\n",
       "    <tr>\n",
       "      <th>3</th>\n",
       "      <td>2475</td>\n",
       "      <td>CPM</td>\n",
       "      <td>0.0</td>\n",
       "      <td>132.0</td>\n",
       "      <td>0.000000</td>\n",
       "    </tr>\n",
       "    <tr>\n",
       "      <th>4</th>\n",
       "      <td>2643</td>\n",
       "      <td>CPM</td>\n",
       "      <td>3.0</td>\n",
       "      <td>286.0</td>\n",
       "      <td>0.010490</td>\n",
       "    </tr>\n",
       "    <tr>\n",
       "      <th>5</th>\n",
       "      <td>4585</td>\n",
       "      <td>CPC</td>\n",
       "      <td>53.0</td>\n",
       "      <td>476.0</td>\n",
       "      <td>0.111345</td>\n",
       "    </tr>\n",
       "  </tbody>\n",
       "</table>\n",
       "</div>"
      ],
      "text/plain": [
       "event  ad_id ad_cost_type  click    view       CTR\n",
       "0          3          CPC    9.0   490.0  0.018367\n",
       "2       2276          CPC    2.0  1454.0  0.001376\n",
       "3       2475          CPM    0.0   132.0  0.000000\n",
       "4       2643          CPM    3.0   286.0  0.010490\n",
       "5       4585          CPC   53.0   476.0  0.111345"
      ]
     },
     "execution_count": 9,
     "metadata": {},
     "output_type": "execute_result"
    }
   ],
   "source": [
    "cost_type_df.head()"
   ]
  },
  {
   "cell_type": "code",
   "execution_count": 10,
   "id": "af999d7d",
   "metadata": {},
   "outputs": [
    {
     "data": {
      "text/plain": [
       "<AxesSubplot:xlabel='ad_cost_type', ylabel='CTR'>"
      ]
     },
     "execution_count": 10,
     "metadata": {},
     "output_type": "execute_result"
    },
    {
     "data": {
      "image/png": "[encoded data removed]",
      "text/plain": [
       "<Figure size 640x480 with 1 Axes>"
      ]
     },
     "metadata": {},
     "output_type": "display_data"
    }
   ],
   "source": [
    "sns.boxplot(data=cost_type_df, x=\"ad_cost_type\", y=\"CTR\")"
   ]
  },
  {
   "cell_type": "code",
   "execution_count": 12,
   "id": "185f64f0",
   "metadata": {
    "scrolled": false
   },
   "outputs": [
    {
     "data": {
      "text/plain": [
       "<seaborn.axisgrid.FacetGrid at 0x14488f10>"
      ]
     },
     "execution_count": 12,
     "metadata": {},
     "output_type": "execute_result"
    },
    {
     "data": {
      "image/png": "[encoded data removed]",
      "text/plain": [
       "<Figure size 500x500 with 1 Axes>"
      ]
     },
     "metadata": {},
     "output_type": "display_data"
    }
   ],
   "source": [
    "sns.displot(cost_type_df.CTR, kde = True)"
   ]
  },
  {
   "cell_type": "markdown",
   "id": "594feeba",
   "metadata": {},
   "source": [
    "такое распредление называется log нормальным"
   ]
  },
  {
   "cell_type": "code",
   "execution_count": 13,
   "id": "fea6120b",
   "metadata": {},
   "outputs": [
    {
     "data": {
      "text/html": [
       "<div>\n",
       "<style scoped>\n",
       "    .dataframe tbody tr th:only-of-type {\n",
       "        vertical-align: middle;\n",
       "    }\n",
       "\n",
       "    .dataframe tbody tr th {\n",
       "        vertical-align: top;\n",
       "    }\n",
       "\n",
       "    .dataframe thead th {\n",
       "        text-align: right;\n",
       "    }\n",
       "</style>\n",
       "<table border=\"1\" class=\"dataframe\">\n",
       "  <thead>\n",
       "    <tr style=\"text-align: right;\">\n",
       "      <th>event</th>\n",
       "      <th>CTR</th>\n",
       "    </tr>\n",
       "    <tr>\n",
       "      <th>ad_cost_type</th>\n",
       "      <th></th>\n",
       "    </tr>\n",
       "  </thead>\n",
       "  <tbody>\n",
       "    <tr>\n",
       "      <th>CPC</th>\n",
       "      <td>0.021046</td>\n",
       "    </tr>\n",
       "    <tr>\n",
       "      <th>CPM</th>\n",
       "      <td>0.017234</td>\n",
       "    </tr>\n",
       "  </tbody>\n",
       "</table>\n",
       "</div>"
      ],
      "text/plain": [
       "event              CTR\n",
       "ad_cost_type          \n",
       "CPC           0.021046\n",
       "CPM           0.017234"
      ]
     },
     "execution_count": 13,
     "metadata": {},
     "output_type": "execute_result"
    }
   ],
   "source": [
    "cost_type_df.groupby('ad_cost_type').agg({'CTR':'mean'})"
   ]
  },
  {
   "cell_type": "markdown",
   "id": "648bacb2",
   "metadata": {},
   "source": [
    "Вопрос, разница статистически значима или случайна?"
   ]
  },
  {
   "cell_type": "markdown",
   "id": "0f4b3bb5",
   "metadata": {},
   "source": [
    "Т тест работает хорошо, когда выполняется вся математика под его основание. Если распределение не нормальное Т тест может не работать."
   ]
  },
  {
   "cell_type": "code",
   "execution_count": 15,
   "id": "9e8f130d",
   "metadata": {},
   "outputs": [
    {
     "name": "stderr",
     "output_type": "stream",
     "text": [
      "c:\\python\\lib\\site-packages\\pandas\\core\\arraylike.py:397: RuntimeWarning: divide by zero encountered in log\n",
      "  result = getattr(ufunc, method)(*inputs, **kwargs)\n"
     ]
    },
    {
     "data": {
      "text/plain": [
       "<seaborn.axisgrid.FacetGrid at 0x14488310>"
      ]
     },
     "execution_count": 15,
     "metadata": {},
     "output_type": "execute_result"
    },
    {
     "data": {
      "image/png": "[encoded data removed]",
      "text/plain": [
       "<Figure size 500x500 with 1 Axes>"
      ]
     },
     "metadata": {},
     "output_type": "display_data"
    }
   ],
   "source": [
    "sns.displot(np.log(cost_type_df.CTR), kde = True)"
   ]
  },
  {
   "cell_type": "code",
   "execution_count": 16,
   "id": "05bef0d0",
   "metadata": {},
   "outputs": [
    {
     "name": "stderr",
     "output_type": "stream",
     "text": [
      "c:\\python\\lib\\site-packages\\pandas\\core\\arraylike.py:397: RuntimeWarning: divide by zero encountered in log\n",
      "  result = getattr(ufunc, method)(*inputs, **kwargs)\n"
     ]
    }
   ],
   "source": [
    "#добавим еще колонку с log CTR\n",
    "cost_type_df['log_CTR'] = np.log(cost_type_df.CTR)"
   ]
  },
  {
   "cell_type": "code",
   "execution_count": 21,
   "id": "20152a1f",
   "metadata": {},
   "outputs": [
    {
     "data": {
      "text/html": [
       "<div>\n",
       "<style scoped>\n",
       "    .dataframe tbody tr th:only-of-type {\n",
       "        vertical-align: middle;\n",
       "    }\n",
       "\n",
       "    .dataframe tbody tr th {\n",
       "        vertical-align: top;\n",
       "    }\n",
       "\n",
       "    .dataframe thead th {\n",
       "        text-align: right;\n",
       "    }\n",
       "</style>\n",
       "<table border=\"1\" class=\"dataframe\">\n",
       "  <thead>\n",
       "    <tr style=\"text-align: right;\">\n",
       "      <th>event</th>\n",
       "      <th>ad_id</th>\n",
       "      <th>ad_cost_type</th>\n",
       "      <th>click</th>\n",
       "      <th>view</th>\n",
       "      <th>CTR</th>\n",
       "      <th>log_CTR</th>\n",
       "    </tr>\n",
       "  </thead>\n",
       "  <tbody>\n",
       "    <tr>\n",
       "      <th>0</th>\n",
       "      <td>3</td>\n",
       "      <td>CPC</td>\n",
       "      <td>9.0</td>\n",
       "      <td>490.0</td>\n",
       "      <td>0.018367</td>\n",
       "      <td>-3.997181</td>\n",
       "    </tr>\n",
       "    <tr>\n",
       "      <th>2</th>\n",
       "      <td>2276</td>\n",
       "      <td>CPC</td>\n",
       "      <td>2.0</td>\n",
       "      <td>1454.0</td>\n",
       "      <td>0.001376</td>\n",
       "      <td>-6.588926</td>\n",
       "    </tr>\n",
       "    <tr>\n",
       "      <th>4</th>\n",
       "      <td>2643</td>\n",
       "      <td>CPM</td>\n",
       "      <td>3.0</td>\n",
       "      <td>286.0</td>\n",
       "      <td>0.010490</td>\n",
       "      <td>-4.557380</td>\n",
       "    </tr>\n",
       "    <tr>\n",
       "      <th>5</th>\n",
       "      <td>4585</td>\n",
       "      <td>CPC</td>\n",
       "      <td>53.0</td>\n",
       "      <td>476.0</td>\n",
       "      <td>0.111345</td>\n",
       "      <td>-2.195126</td>\n",
       "    </tr>\n",
       "    <tr>\n",
       "      <th>6</th>\n",
       "      <td>4877</td>\n",
       "      <td>CPC</td>\n",
       "      <td>5.0</td>\n",
       "      <td>2160.0</td>\n",
       "      <td>0.002315</td>\n",
       "      <td>-6.068426</td>\n",
       "    </tr>\n",
       "  </tbody>\n",
       "</table>\n",
       "</div>"
      ],
      "text/plain": [
       "event  ad_id ad_cost_type  click    view       CTR   log_CTR\n",
       "0          3          CPC    9.0   490.0  0.018367 -3.997181\n",
       "2       2276          CPC    2.0  1454.0  0.001376 -6.588926\n",
       "4       2643          CPM    3.0   286.0  0.010490 -4.557380\n",
       "5       4585          CPC   53.0   476.0  0.111345 -2.195126\n",
       "6       4877          CPC    5.0  2160.0  0.002315 -6.068426"
      ]
     },
     "execution_count": 21,
     "metadata": {},
     "output_type": "execute_result"
    }
   ],
   "source": [
    "cost_type_df = cost_type_df.query('CTR > 0')\n",
    "cost_type_df.head()\n"
   ]
  },
  {
   "cell_type": "code",
   "execution_count": 18,
   "id": "07c474a2",
   "metadata": {},
   "outputs": [
    {
     "data": {
      "text/plain": [
       "0     -3.997181\n",
       "2     -6.588926\n",
       "5     -2.195126\n",
       "6     -6.068426\n",
       "7     -3.704823\n",
       "         ...   \n",
       "337   -6.312944\n",
       "340   -7.013016\n",
       "348   -2.768245\n",
       "351   -4.743191\n",
       "354   -3.688379\n",
       "Name: log_CTR, Length: 63, dtype: float64"
      ]
     },
     "execution_count": 18,
     "metadata": {},
     "output_type": "execute_result"
    }
   ],
   "source": [
    "cost_type_df[cost_type_df.ad_cost_type == 'CPC'].log_CTR"
   ]
  },
  {
   "cell_type": "code",
   "execution_count": 19,
   "id": "772fc052",
   "metadata": {},
   "outputs": [
    {
     "data": {
      "text/plain": [
       "3          -inf\n",
       "4     -4.557380\n",
       "8     -3.751854\n",
       "9     -4.143135\n",
       "10    -3.392269\n",
       "         ...   \n",
       "347        -inf\n",
       "349   -4.424847\n",
       "350   -6.461468\n",
       "352   -5.043425\n",
       "353   -5.560682\n",
       "Name: log_CTR, Length: 279, dtype: float64"
      ]
     },
     "execution_count": 19,
     "metadata": {},
     "output_type": "execute_result"
    }
   ],
   "source": [
    "cost_type_df[cost_type_df.ad_cost_type == 'CPM'].log_CTR"
   ]
  },
  {
   "cell_type": "code",
   "execution_count": 22,
   "id": "03d22f37",
   "metadata": {},
   "outputs": [
    {
     "data": {
      "text/plain": [
       "Ttest_indResult(statistic=1.1407296867039143, pvalue=0.25489224816951805)"
      ]
     },
     "execution_count": 22,
     "metadata": {},
     "output_type": "execute_result"
    }
   ],
   "source": [
    "ttest_ind(cost_type_df[cost_type_df.ad_cost_type == 'CPC'].log_CTR, \n",
    "          cost_type_df[cost_type_df.ad_cost_type == 'CPM'].log_CTR)"
   ]
  },
  {
   "cell_type": "markdown",
   "id": "0d561b07",
   "metadata": {},
   "source": [
    "pvalue=0.25. Мы хотели узнать, правда ли что в ГС CTR по CPC и CPM значимо различаются? Мы применили т тест. pvalue=0.25 значит, что если верна Н0 и средние не различаются, то вероятность получить такие или еще более выраженные различия между средними составили бы 25%, что очень много. В статистике такой порог используется, как неприемлимый. "
   ]
  },
  {
   "cell_type": "code",
   "execution_count": 27,
   "id": "02c075be",
   "metadata": {},
   "outputs": [],
   "source": [
    "platform_df = df.groupby(['ad_id','platform'], as_index = False)\\\n",
    "    .agg({'click':'sum', 'view':'sum'}).fillna(0)"
   ]
  },
  {
   "cell_type": "code",
   "execution_count": 28,
   "id": "1a50d367",
   "metadata": {},
   "outputs": [],
   "source": [
    "platform_df = platform_df.query('view >= 100 and click > 0')"
   ]
  },
  {
   "cell_type": "code",
   "execution_count": 29,
   "id": "8d59e611",
   "metadata": {},
   "outputs": [],
   "source": [
    "platform_df['CTR'] = platform_df['click'] / platform_df['view']\n",
    "platform_df['log_CTR'] = np.log(platform_df.CTR)"
   ]
  },
  {
   "cell_type": "code",
   "execution_count": 30,
   "id": "9eaa49da",
   "metadata": {},
   "outputs": [
    {
     "data": {
      "text/plain": [
       "<AxesSubplot:xlabel='platform', ylabel='CTR'>"
      ]
     },
     "execution_count": 30,
     "metadata": {},
     "output_type": "execute_result"
    },
    {
     "data": {
      "image/png": "[encoded data removed]",
      "text/plain": [
       "<Figure size 640x480 with 1 Axes>"
      ]
     },
     "metadata": {},
     "output_type": "display_data"
    }
   ],
   "source": [
    "sns.boxplot(data=platform_df, x=\"platform\", y=\"CTR\")"
   ]
  },
  {
   "cell_type": "markdown",
   "id": "7be25871",
   "metadata": {},
   "source": [
    "T test работает при сравнении 2х групп, если нужно сравнить больше 2 групп, используем модифицированный т тест - f_oneway. Нулевая гипотеза будет, что с реднее хотя бы в одной из групп различается от 2х других. "
   ]
  },
  {
   "cell_type": "code",
   "execution_count": 32,
   "id": "44bb5e1f",
   "metadata": {},
   "outputs": [
    {
     "data": {
      "text/plain": [
       "F_onewayResult(statistic=0.12166661543421682, pvalue=0.8854673367284196)"
      ]
     },
     "execution_count": 32,
     "metadata": {},
     "output_type": "execute_result"
    }
   ],
   "source": [
    "f_oneway(platform_df[platform_df.platform == 'android'].log_CTR, \n",
    "          platform_df[platform_df.platform == 'ios'].log_CTR,\n",
    "          platform_df[platform_df.platform == 'web'].log_CTR)"
   ]
  },
  {
   "cell_type": "markdown",
   "id": "35561a78",
   "metadata": {},
   "source": [
    "если бы тест показал значимые различия, он бы не сказал кто с кем имеет различия. нужно было бы попарно сравнивать каждых"
   ]
  },
  {
   "cell_type": "code",
   "execution_count": null,
   "id": "86b89248",
   "metadata": {},
   "outputs": [],
   "source": []
  }
 ],
 "metadata": {
  "kernelspec": {
   "display_name": "Python 3 (ipykernel)",
   "language": "python",
   "name": "python3"
  },
  "language_info": {
   "codemirror_mode": {
    "name": "ipython",
    "version": 3
   },
   "file_extension": ".py",
   "mimetype": "text/x-python",
   "name": "python",
   "nbconvert_exporter": "python",
   "pygments_lexer": "ipython3",
   "version": "3.8.1"
  }
 },
 "nbformat": 4,
 "nbformat_minor": 5
}
